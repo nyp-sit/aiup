{
  "nbformat": 4,
  "nbformat_minor": 0,
  "metadata": {
    "colab": {
      "name": "Phishing_Prediction_NB_Exercise.ipynb",
      "provenance": [],
      "collapsed_sections": [],
      "include_colab_link": true
    },
    "kernelspec": {
      "display_name": "Python 3",
      "language": "python",
      "name": "python3"
    },
    "language_info": {
      "codemirror_mode": {
        "name": "ipython",
        "version": 3
      },
      "file_extension": ".py",
      "mimetype": "text/x-python",
      "name": "python",
      "nbconvert_exporter": "python",
      "pygments_lexer": "ipython3",
      "version": "3.8.3"
    }
  },
  "cells": [
    {
      "cell_type": "markdown",
      "metadata": {
        "id": "view-in-github",
        "colab_type": "text"
      },
      "source": [
        "<a href=\"https://colab.research.google.com/github/nyp-sit/aiup/blob/main/day1-am/Lab02a_Phishing_Prediction_NB_Exercise.ipynb\" target=\"_parent\"><img src=\"https://colab.research.google.com/assets/colab-badge.svg\" alt=\"Open In Colab\"/></a>"
      ]
    },
    {
      "cell_type": "markdown",
      "metadata": {
        "id": "pbLIn0Q25rjw"
      },
      "source": [
        "<img src=\"https://www.nyp.edu.sg/content/dam/nyp/logo.png\" width='200'/>\n",
        "\n",
        "Welcome to the lab! Before we get started here are a few pointers on Colab notebooks.\n",
        "\n",
        "1. The notebook is composed of cells; cells can contain code which you can run, or they can hold text and/or images which are there for you to read.\n",
        "\n",
        "2. You can execute code cells by clicking the ```Run``` icon in the menu, or via the following keyboard shortcuts ```Shift-Enter``` (run and advance) or ```Ctrl-Enter``` (run and stay in the current cell).\n",
        "\n",
        "3. To interrupt cell execution, click the ```Stop``` button on the toolbar or navigate to the ```Kernel``` menu, and select ```Interrupt ```.\n",
        "    "
      ]
    },
    {
      "cell_type": "markdown",
      "metadata": {
        "id": "PnkQStr-AVh4"
      },
      "source": [
        "# Phishing Prediction Exercise using Naive Bayes (Exercise)\n",
        "In this lab, we will be working with a Phishing Dataset to train a Naive Bayes model. \n",
        "\n",
        "There are some parts that requires your input and some blanks indicated with **None** for you to fill in.\n",
        "\n",
        "This lab is very similiar to the Malware Prediction, except that we are using a different dataset and a different algorithm."
      ]
    },
    {
      "cell_type": "code",
      "metadata": {
        "id": "rUI3BSj1WQZU"
      },
      "source": [
        "import pandas as pd\n",
        "import matplotlib.pyplot as plt\n",
        "import seaborn as sns"
      ],
      "execution_count": null,
      "outputs": []
    },
    {
      "cell_type": "markdown",
      "metadata": {
        "id": "w1GQ568WBii4"
      },
      "source": [
        "### Exercise 1: Read the csv file"
      ]
    },
    {
      "cell_type": "code",
      "metadata": {
        "id": "Re-YuYsG6H0T"
      },
      "source": [
        "!wget https://nyp-aicourse.s3-ap-southeast-1.amazonaws.com/aiup/day1-am/phishing_dataset.csv"
      ],
      "execution_count": null,
      "outputs": []
    },
    {
      "cell_type": "code",
      "metadata": {
        "id": "UJmJ5z4NBXj_"
      },
      "source": [
        "# Ex1a: Load the data\n",
        "file_name = None\n",
        "df = pd.read_csv(None)"
      ],
      "execution_count": null,
      "outputs": []
    },
    {
      "cell_type": "markdown",
      "metadata": {
        "id": "wAyyUFcc_WAA"
      },
      "source": [
        "### Exercise 2: Preview and process the data"
      ]
    },
    {
      "cell_type": "code",
      "metadata": {
        "id": "g2ZyeaSo_ayc"
      },
      "source": [
        "df.head(5)"
      ],
      "execution_count": null,
      "outputs": []
    },
    {
      "cell_type": "code",
      "metadata": {
        "id": "7ejrrtGZYKSP"
      },
      "source": [
        "df.tail(5)"
      ],
      "execution_count": null,
      "outputs": []
    },
    {
      "cell_type": "code",
      "metadata": {
        "id": "ifgNHYCxXMDn"
      },
      "source": [
        "# Print the shape (Get the number of rows and cols)\n",
        "df.shape"
      ],
      "execution_count": null,
      "outputs": []
    },
    {
      "cell_type": "code",
      "metadata": {
        "id": "NaEcsXNv_wbi"
      },
      "source": [
        "# Ex2a: Get the column names"
      ],
      "execution_count": null,
      "outputs": []
    },
    {
      "cell_type": "code",
      "metadata": {
        "id": "bD8KBQs0Fo7t"
      },
      "source": [
        "# Ex2b: display the correlation of the dataset"
      ],
      "execution_count": null,
      "outputs": []
    },
    {
      "cell_type": "code",
      "metadata": {
        "id": "ooL5gjDnXkzg"
      },
      "source": [
        "# Checking for duplicates and removing them\n",
        "df.drop_duplicates(inplace = True)"
      ],
      "execution_count": null,
      "outputs": []
    },
    {
      "cell_type": "code",
      "metadata": {
        "id": "VIXHC1NcXmif"
      },
      "source": [
        "# Show the new shape (number of rows & columns)\n",
        "df.shape"
      ],
      "execution_count": null,
      "outputs": []
    },
    {
      "cell_type": "code",
      "metadata": {
        "id": "Jvd_k-5LXpMX"
      },
      "source": [
        "# Show the number of missing (NAN, NaN, na) data for each column\n",
        "df.isnull().sum()"
      ],
      "execution_count": null,
      "outputs": []
    },
    {
      "cell_type": "code",
      "metadata": {
        "id": "AKEoAkATXrqn"
      },
      "source": [
        "# list the different result and the number of records with it\n",
        "df[\"Result\"].value_counts()"
      ],
      "execution_count": null,
      "outputs": []
    },
    {
      "cell_type": "code",
      "metadata": {
        "id": "R9rpWHomAO_m"
      },
      "source": [
        "# Ex2c: Use a statistical graph to visualise the data above\n",
        "\n"
      ],
      "execution_count": null,
      "outputs": []
    },
    {
      "cell_type": "markdown",
      "metadata": {
        "id": "AQeFmDAsAVUo"
      },
      "source": [
        "### Exercise 3: Identify the features and label"
      ]
    },
    {
      "cell_type": "code",
      "metadata": {
        "id": "OOhob8SvBX8D"
      },
      "source": [
        "# Ex3a: Define x-axis"
      ],
      "execution_count": null,
      "outputs": []
    },
    {
      "cell_type": "code",
      "metadata": {
        "id": "zd4iMwhQBd1n"
      },
      "source": [
        "# Ex3b: Define y-axis"
      ],
      "execution_count": null,
      "outputs": []
    },
    {
      "cell_type": "markdown",
      "metadata": {
        "id": "5TKqTxPqBoFb"
      },
      "source": [
        "### Exercise 4: Choose and train the model\n",
        "We will be using Naive Bayes (GaussianNB) for this exercise"
      ]
    },
    {
      "cell_type": "code",
      "metadata": {
        "id": "MB75x2YEdkdl"
      },
      "source": [
        "from sklearn.naive_bayes import GaussianNB\n",
        "from sklearn.model_selection import train_test_split"
      ],
      "execution_count": null,
      "outputs": []
    },
    {
      "cell_type": "code",
      "metadata": {
        "id": "na5zeYeUCDhC"
      },
      "source": [
        "# Ex4a: spilt the data "
      ],
      "execution_count": null,
      "outputs": []
    },
    {
      "cell_type": "code",
      "metadata": {
        "id": "w0tN5Za_CUTJ"
      },
      "source": [
        "# Ex4b: train the model\n",
        "model=GaussianNB()\n",
        "# code here"
      ],
      "execution_count": null,
      "outputs": []
    },
    {
      "cell_type": "code",
      "metadata": {
        "id": "b3AnRLE_ekqu"
      },
      "source": [
        "pred=model.predict(x_test)\n",
        "pred"
      ],
      "execution_count": null,
      "outputs": []
    },
    {
      "cell_type": "code",
      "metadata": {
        "id": "hD_NfETOCj4-"
      },
      "source": [
        "# Ex4c: display the model score"
      ],
      "execution_count": null,
      "outputs": []
    },
    {
      "cell_type": "code",
      "metadata": {
        "id": "c4yZo1cYCeXm"
      },
      "source": [
        ""
      ],
      "execution_count": null,
      "outputs": []
    },
    {
      "cell_type": "code",
      "metadata": {
        "id": "OmsrUQoxenRu"
      },
      "source": [
        "result=pd.DataFrame({\n",
        "    \"Actual_Value\":y_test,\n",
        "    \"Predict_Value\":pred\n",
        "})\n",
        "result"
      ],
      "execution_count": null,
      "outputs": []
    },
    {
      "cell_type": "markdown",
      "metadata": {
        "id": "OdoF5XW7CsN1"
      },
      "source": [
        "### Exercise 5: Evaluate the model and display the reports\n",
        "\n",
        "\n"
      ]
    },
    {
      "cell_type": "code",
      "metadata": {
        "id": "c52FSTpPDIXt"
      },
      "source": [
        "# Ex5a: Evaluate the model using the training data"
      ],
      "execution_count": null,
      "outputs": []
    },
    {
      "cell_type": "code",
      "metadata": {
        "id": "6FHrECnZDHCq"
      },
      "source": [
        "from sklearn.metrics import classification_report,confusion_matrix, accuracy_score"
      ],
      "execution_count": null,
      "outputs": []
    },
    {
      "cell_type": "code",
      "metadata": {
        "id": "GRQP4hNeDcDK"
      },
      "source": [
        "# Ex5b: Display classification report"
      ],
      "execution_count": null,
      "outputs": []
    },
    {
      "cell_type": "code",
      "metadata": {
        "id": "HVXd7oBCDnnD"
      },
      "source": [
        "# Ex5c: Display Confusion Matrix and accuracy"
      ],
      "execution_count": null,
      "outputs": []
    },
    {
      "cell_type": "code",
      "metadata": {
        "id": "JzwShkZKD-Cr"
      },
      "source": [
        "# Ex5c (optional): Plot the Confusion Matrix for easy visualisation\n",
        "from sklearn.metrics import plot_confusion_matrix\n"
      ],
      "execution_count": null,
      "outputs": []
    },
    {
      "cell_type": "code",
      "metadata": {
        "id": "Jr9y7MycETI4"
      },
      "source": [
        "# Ex5d: repeat Ex5a-5c on testing data"
      ],
      "execution_count": null,
      "outputs": []
    },
    {
      "cell_type": "code",
      "metadata": {
        "id": "bXujayosferf"
      },
      "source": [
        ""
      ],
      "execution_count": null,
      "outputs": []
    }
  ]
}