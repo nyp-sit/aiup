{
 "cells": [
  {
   "cell_type": "markdown",
   "metadata": {
    "colab_type": "text",
    "id": "PnkQStr-AVh4"
   },
   "source": [
    "# Phishing Prediction Exercise using Naive Bayes\n",
    "In this workshop, we will be working with a Phishing Dataset to train a Naive Bayes model. \n",
    "\n",
    "There are some parts that requires your input and some blanks indicated with **None** for you to fill in.\n",
    "\n",
    "This workshop is very similiar to the Malware Classification, except that we are using a different dataset and well as a different algorithm."
   ]
  },
  {
   "cell_type": "code",
   "execution_count": null,
   "metadata": {
    "colab": {},
    "colab_type": "code",
    "id": "rUI3BSj1WQZU"
   },
   "outputs": [],
   "source": [
    "import pandas as pd\n",
    "import matplotlib.pyplot as plt\n",
    "import seaborn as sns"
   ]
  },
  {
   "cell_type": "markdown",
   "metadata": {
    "colab_type": "text",
    "id": "w1GQ568WBii4"
   },
   "source": [
    "### Exercise 1: Read the csv file"
   ]
  },
  {
   "cell_type": "code",
   "execution_count": null,
   "metadata": {
    "colab": {},
    "colab_type": "code",
    "id": "UJmJ5z4NBXj_"
   },
   "outputs": [],
   "source": [
    "# Ex1a: Load the data\n",
    "data_dir_path = None\n",
    "file_name = None\n",
    "df = pd.read_csv(None)\n",
    "df.head(5)"
   ]
  },
  {
   "cell_type": "markdown",
   "metadata": {
    "colab_type": "text",
    "id": "wAyyUFcc_WAA"
   },
   "source": [
    "### Exercise 2: Preview and process the data"
   ]
  },
  {
   "cell_type": "code",
   "execution_count": null,
   "metadata": {
    "colab": {},
    "colab_type": "code",
    "id": "g2ZyeaSo_ayc"
   },
   "outputs": [],
   "source": [
    "df.head(5)"
   ]
  },
  {
   "cell_type": "code",
   "execution_count": null,
   "metadata": {
    "colab": {},
    "colab_type": "code",
    "id": "7ejrrtGZYKSP"
   },
   "outputs": [],
   "source": [
    "df.tail(5)"
   ]
  },
  {
   "cell_type": "code",
   "execution_count": null,
   "metadata": {
    "colab": {},
    "colab_type": "code",
    "id": "ifgNHYCxXMDn"
   },
   "outputs": [],
   "source": [
    "# Print the shape (Get the number of rows and cols)\n",
    "df.shape"
   ]
  },
  {
   "cell_type": "code",
   "execution_count": null,
   "metadata": {
    "colab": {},
    "colab_type": "code",
    "id": "NaEcsXNv_wbi"
   },
   "outputs": [],
   "source": [
    "# Ex2a: Get the column names"
   ]
  },
  {
   "cell_type": "code",
   "execution_count": null,
   "metadata": {
    "colab": {},
    "colab_type": "code",
    "id": "bD8KBQs0Fo7t"
   },
   "outputs": [],
   "source": [
    "# Ex2b: display the correlation of the dataset"
   ]
  },
  {
   "cell_type": "code",
   "execution_count": null,
   "metadata": {
    "colab": {},
    "colab_type": "code",
    "id": "ooL5gjDnXkzg"
   },
   "outputs": [],
   "source": [
    "# Checking for duplicates and removing them\n",
    "df.drop_duplicates(inplace = True)"
   ]
  },
  {
   "cell_type": "code",
   "execution_count": null,
   "metadata": {
    "colab": {},
    "colab_type": "code",
    "id": "VIXHC1NcXmif"
   },
   "outputs": [],
   "source": [
    "# Show the new shape (number of rows & columns)\n",
    "df.shape"
   ]
  },
  {
   "cell_type": "code",
   "execution_count": null,
   "metadata": {
    "colab": {},
    "colab_type": "code",
    "id": "Jvd_k-5LXpMX"
   },
   "outputs": [],
   "source": [
    "# Show the number of missing (NAN, NaN, na) data for each column\n",
    "df.isnull().sum()"
   ]
  },
  {
   "cell_type": "code",
   "execution_count": null,
   "metadata": {
    "colab": {},
    "colab_type": "code",
    "id": "AKEoAkATXrqn"
   },
   "outputs": [],
   "source": [
    "# list the different result and the number of records with it\n",
    "df[\"Result\"].value_counts()"
   ]
  },
  {
   "cell_type": "code",
   "execution_count": null,
   "metadata": {
    "colab": {},
    "colab_type": "code",
    "id": "R9rpWHomAO_m"
   },
   "outputs": [],
   "source": [
    "# Ex2c: Use a statistical graph to visualise the data above\n",
    "\n"
   ]
  },
  {
   "cell_type": "markdown",
   "metadata": {
    "colab_type": "text",
    "id": "AQeFmDAsAVUo"
   },
   "source": [
    "### Exerise 3: Identify the features and label"
   ]
  },
  {
   "cell_type": "code",
   "execution_count": null,
   "metadata": {
    "colab": {},
    "colab_type": "code",
    "id": "OOhob8SvBX8D"
   },
   "outputs": [],
   "source": [
    "# Ex3a: Define x-axis"
   ]
  },
  {
   "cell_type": "code",
   "execution_count": null,
   "metadata": {
    "colab": {},
    "colab_type": "code",
    "id": "zd4iMwhQBd1n"
   },
   "outputs": [],
   "source": [
    "# Ex3b: Define y-axis"
   ]
  },
  {
   "cell_type": "markdown",
   "metadata": {
    "colab_type": "text",
    "id": "5TKqTxPqBoFb"
   },
   "source": [
    "Exercise 4: Choose and train the model.\n",
    "We will be using Naive Bayes (GaussianNB) for this exercise"
   ]
  },
  {
   "cell_type": "code",
   "execution_count": null,
   "metadata": {
    "colab": {},
    "colab_type": "code",
    "id": "MB75x2YEdkdl"
   },
   "outputs": [],
   "source": [
    "from sklearn.naive_bayes import GaussianNB\n",
    "from sklearn.model_selection import train_test_split"
   ]
  },
  {
   "cell_type": "code",
   "execution_count": null,
   "metadata": {
    "colab": {},
    "colab_type": "code",
    "id": "na5zeYeUCDhC"
   },
   "outputs": [],
   "source": [
    "# Ex4a: spilt the data "
   ]
  },
  {
   "cell_type": "code",
   "execution_count": null,
   "metadata": {
    "colab": {},
    "colab_type": "code",
    "id": "w0tN5Za_CUTJ"
   },
   "outputs": [],
   "source": [
    "# Ex4b: train the model\n",
    "model=GaussianNB()\n",
    "# code here"
   ]
  },
  {
   "cell_type": "code",
   "execution_count": null,
   "metadata": {
    "colab": {},
    "colab_type": "code",
    "id": "b3AnRLE_ekqu"
   },
   "outputs": [],
   "source": [
    "pred=model.predict(x_test)\n",
    "pred"
   ]
  },
  {
   "cell_type": "code",
   "execution_count": null,
   "metadata": {
    "colab": {},
    "colab_type": "code",
    "id": "hD_NfETOCj4-"
   },
   "outputs": [],
   "source": [
    "# Ex4c: display the model score"
   ]
  },
  {
   "cell_type": "code",
   "execution_count": null,
   "metadata": {
    "colab": {},
    "colab_type": "code",
    "id": "c4yZo1cYCeXm"
   },
   "outputs": [],
   "source": []
  },
  {
   "cell_type": "code",
   "execution_count": null,
   "metadata": {
    "colab": {},
    "colab_type": "code",
    "id": "OmsrUQoxenRu"
   },
   "outputs": [],
   "source": [
    "result=pd.DataFrame({\n",
    "    \"Actual_Value\":y_test,\n",
    "    \"Predict_Value\":pred\n",
    "})\n",
    "result"
   ]
  },
  {
   "cell_type": "markdown",
   "metadata": {
    "colab_type": "text",
    "id": "OdoF5XW7CsN1"
   },
   "source": [
    "### Exercise 5: Evaluate the model and display the reports\n",
    "\n",
    "\n"
   ]
  },
  {
   "cell_type": "code",
   "execution_count": null,
   "metadata": {
    "colab": {},
    "colab_type": "code",
    "id": "c52FSTpPDIXt"
   },
   "outputs": [],
   "source": [
    "# Ex5a: Evaluate the model using the training data"
   ]
  },
  {
   "cell_type": "code",
   "execution_count": null,
   "metadata": {
    "colab": {},
    "colab_type": "code",
    "id": "6FHrECnZDHCq"
   },
   "outputs": [],
   "source": [
    "from sklearn.metrics import classification_report,confusion_matrix, accuracy_score"
   ]
  },
  {
   "cell_type": "code",
   "execution_count": null,
   "metadata": {
    "colab": {},
    "colab_type": "code",
    "id": "GRQP4hNeDcDK"
   },
   "outputs": [],
   "source": [
    "# Ex5b: Display classification report"
   ]
  },
  {
   "cell_type": "code",
   "execution_count": null,
   "metadata": {
    "colab": {},
    "colab_type": "code",
    "id": "HVXd7oBCDnnD"
   },
   "outputs": [],
   "source": [
    "# Ex5c: Display Confusion Matrix and accuracy"
   ]
  },
  {
   "cell_type": "code",
   "execution_count": null,
   "metadata": {
    "colab": {},
    "colab_type": "code",
    "id": "JzwShkZKD-Cr"
   },
   "outputs": [],
   "source": [
    "# Ex5c (optional): Plot the Confusion Matrix for easy visualisation\n",
    "from sklearn.metrics import plot_confusion_matrix\n"
   ]
  },
  {
   "cell_type": "code",
   "execution_count": null,
   "metadata": {
    "colab": {},
    "colab_type": "code",
    "id": "Jr9y7MycETI4"
   },
   "outputs": [],
   "source": [
    "# Ex5d: repeat Ex5a-5c on testing data"
   ]
  },
  {
   "cell_type": "code",
   "execution_count": null,
   "metadata": {
    "colab": {},
    "colab_type": "code",
    "id": "bXujayosferf"
   },
   "outputs": [],
   "source": []
  }
 ],
 "metadata": {
  "colab": {
   "authorship_tag": "ABX9TyPJnTjmHLjYgNN24Cw/A6fG",
   "collapsed_sections": [],
   "name": "Phishing_Prediction_NB_Exercise.ipynb",
   "provenance": [
    {
     "file_id": "1lcl8p4CMvC7lLoy4nXMxdN_N9ePqDu8f",
     "timestamp": 1600917038695
    },
    {
     "file_id": "11KXqV5qgY9l2vI6giqHCSbx2eLiDBSsl",
     "timestamp": 1600056821071
    }
   ]
  },
  "kernelspec": {
   "display_name": "Python 3",
   "language": "python",
   "name": "python3"
  },
  "language_info": {
   "codemirror_mode": {
    "name": "ipython",
    "version": 3
   },
   "file_extension": ".py",
   "mimetype": "text/x-python",
   "name": "python",
   "nbconvert_exporter": "python",
   "pygments_lexer": "ipython3",
   "version": "3.8.3"
  }
 },
 "nbformat": 4,
 "nbformat_minor": 4
}
