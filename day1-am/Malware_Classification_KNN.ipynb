{
 "cells": [
  {
   "cell_type": "markdown",
   "metadata": {},
   "source": [
    "<img src=\"https://www.nyp.edu.sg/content/dam/nyp/logo.png\" width='200'/>\n",
    "\n",
    "Welcome to the lab! Before we get started here are a few pointers on Jupyter notebooks.\n",
    "\n",
    "1. The notebook is composed of cells; cells can contain code which you can run, or they can hold text and/or images which are there for you to read.\n",
    "\n",
    "2. You can execute code cells by clicking the ```Run``` icon in the menu, or via the following keyboard shortcuts ```Shift-Enter``` (run and advance) or ```Ctrl-Enter``` (run and stay in the current cell).\n",
    "\n",
    "3. To interrupt cell execution, click the ```Stop``` button on the toolbar or navigate to the ```Kernel``` menu, and select ```Interrupt ```.\n",
    "    "
   ]
  },
  {
 "cells": [
  {
   "cell_type": "markdown",
   "metadata": {
    "colab_type": "text",
    "id": "003DYfdKdSOW"
   },
   "source": [
    "# Malware Classification using KNN\n",
    "\n",
    "### In this workshop, we will be working with a Malware Dataset to train a K-Nearest-Neighbor model.\n",
    "\n"
   ]
  },
  {
   "cell_type": "markdown",
   "metadata": {
    "colab_type": "text",
    "id": "zj7I_BL0dzKn"
   },
   "source": [
    "For a start, we will need to import the relavant library to help us with data manipulation \n",
    "\n",
    "\n",
    "*   **pandas** is a fast, powerful, flexible and easy to use open source data analysis and manipulation tool. \n",
    "*   **matplotlib** is a comprehensive library for creating static, animated, and interactive visualizations in Python.\n",
    "*   **seaborn** is a Python data visualization library based on matplotlib. It provides a high-level interface for drawing attractive and informative statistical graphics.\n",
    "\n",
    "You can import the libraries in the beginning or at later stage just before you need it.\n",
    "\n"
   ]
  },
  {
   "cell_type": "code",
   "execution_count": null,
   "metadata": {
    "colab": {
     "base_uri": "https://localhost:8080/",
     "height": 72
    },
    "colab_type": "code",
    "executionInfo": {
     "elapsed": 1218,
     "status": "ok",
     "timestamp": 1600916802256,
     "user": {
      "displayName": "Jasmine Ng",
      "photoUrl": "",
      "userId": "03140874638654819624"
     },
     "user_tz": -480
    },
    "id": "rUI3BSj1WQZU",
    "outputId": "a68715f5-ee4e-4e34-87ac-c7fa37a2228d"
   },
   "outputs": [],
   "source": [
    "import pandas as pd\n",
    "import matplotlib.pyplot as plt\n",
    "import seaborn as sns"
   ]
  },
  {
   "cell_type": "markdown",
   "metadata": {
    "colab_type": "text",
    "id": "b_GLvUKSfEud"
   },
   "source": [
    "You will often see \\# in the codes which is a comment that can be use to explain the codes or to temporary hide the codes from the execution\n",
    "\n",
    "\\# this is a comment"
   ]
  },
  {
   "cell_type": "markdown",
   "metadata": {
    "colab_type": "text",
    "id": "HZmFYhvofUDV"
   },
   "source": [
    "In the example below, we have save our dataset \"malware_dataset_full.csv\" in data folder."
   ]
  },
  {
   "cell_type": "code",
   "execution_count": null,
   "metadata": {
    "colab": {},
    "colab_type": "code",
    "id": "tgAb595FXCPo"
   },
   "outputs": [],
   "source": [
    "#Load the data\n",
    "data_dir_path='data/'\n",
    "file_name = 'malware_dataset_full.csv'\n"
   ]
  },
  {
   "cell_type": "markdown",
   "metadata": {
    "colab_type": "text",
    "id": "X5TOCpSvuW0u"
   },
   "source": [
    "After loading the file, let's make use of pandas library to read the file. \n",
    "\n",
    "**pd.read_csv** requires the exact path of the file, and returns a dataframe.\n",
    "DataFrame is a 2-dimensional labeled data structure with columns of potentially different types, just like a table in an excel file.\n",
    "\n",
    "**df.head** will return the first few record depending on the number indicated in the parentheses."
   ]
  },
  {
   "cell_type": "code",
   "execution_count": null,
   "metadata": {
    "colab": {
     "base_uri": "https://localhost:8080/",
     "height": 249
    },
    "colab_type": "code",
    "executionInfo": {
     "elapsed": 1897,
     "status": "ok",
     "timestamp": 1600916900364,
     "user": {
      "displayName": "Jasmine Ng",
      "photoUrl": "",
      "userId": "03140874638654819624"
     },
     "user_tz": -480
    },
    "id": "O6WVCTFHuS5k",
    "outputId": "7a40cac4-5c4a-45c9-e446-aafe389c7708"
   },
   "outputs": [],
   "source": [
    "df = pd.read_csv(data_dir_path + file_name)\n",
    "df.head(5)"
   ]
  },
  {
   "cell_type": "markdown",
   "metadata": {
    "colab_type": "text",
    "id": "pKCsgYpJvee7"
   },
   "source": [
    "Guess what df.tail does?\n"
   ]
  },
  {
   "cell_type": "code",
   "execution_count": null,
   "metadata": {
    "colab": {
     "base_uri": "https://localhost:8080/",
     "height": 249
    },
    "colab_type": "code",
    "executionInfo": {
     "elapsed": 1770,
     "status": "ok",
     "timestamp": 1600916900855,
     "user": {
      "displayName": "Jasmine Ng",
      "photoUrl": "",
      "userId": "03140874638654819624"
     },
     "user_tz": -480
    },
    "id": "7ejrrtGZYKSP",
    "outputId": "dcab3d5d-6833-4efd-f6b8-e755ea158293"
   },
   "outputs": [],
   "source": [
    "df.tail(5)"
   ]
  },
  {
   "cell_type": "markdown",
   "metadata": {
    "colab_type": "text",
    "id": "3-9MgQXyvrI0"
   },
   "source": [
    "**df.shape** returns a tuple that indicates the number of rows and columns in the dataframe."
   ]
  },
  {
   "cell_type": "code",
   "execution_count": null,
   "metadata": {
    "colab": {
     "base_uri": "https://localhost:8080/",
     "height": 35
    },
    "colab_type": "code",
    "executionInfo": {
     "elapsed": 1289,
     "status": "ok",
     "timestamp": 1600916900856,
     "user": {
      "displayName": "Jasmine Ng",
      "photoUrl": "",
      "userId": "03140874638654819624"
     },
     "user_tz": -480
    },
    "id": "ifgNHYCxXMDn",
    "outputId": "79bcf78d-0a9f-40ea-fb98-499adf0c68a0"
   },
   "outputs": [],
   "source": [
    "# Print the shape (Get the number of rows and cols)\n",
    "df.shape"
   ]
  },
  {
   "cell_type": "markdown",
   "metadata": {
    "colab_type": "text",
    "id": "H0SIHuL1wGDI"
   },
   "source": [
    "**df.columns** prints the columns name\n",
    "\n",
    "As the list is very long, the bulk of the columns will be hidden. However you can still use df.columns.to_list() to display all the columns.\n"
   ]
  },
  {
   "cell_type": "code",
   "execution_count": null,
   "metadata": {
    "colab": {
     "base_uri": "https://localhost:8080/",
     "height": 372
    },
    "colab_type": "code",
    "executionInfo": {
     "elapsed": 1223,
     "status": "ok",
     "timestamp": 1600916999993,
     "user": {
      "displayName": "Jasmine Ng",
      "photoUrl": "",
      "userId": "03140874638654819624"
     },
     "user_tz": -480
    },
    "id": "PGu9WnJDXjkH",
    "outputId": "60287752-1dee-4ca4-a95d-dd3c55e5c062"
   },
   "outputs": [],
   "source": [
    "# Get the column names\n",
    "df.columns\n",
    "# df.columns.to_list()\n"
   ]
  },
  {
   "cell_type": "markdown",
   "metadata": {
    "colab_type": "text",
    "id": "HO6Y73--5R2R"
   },
   "source": [
    "There are 1000 columns in the dataset, how do we know what is the correlation between the columns, especially with regards to CLASS?\n",
    "\n",
    "Let's make use of pandas **df.corr()** to find out. \n",
    "\n",
    "Correlation is a statistical technique that shows how two variables are related"
   ]
  },
  {
   "cell_type": "code",
   "execution_count": null,
   "metadata": {
    "colab": {},
    "colab_type": "code",
    "id": "Vtk0I3uv5Q_3"
   },
   "outputs": [],
   "source": [
    "df.corr()"
   ]
  },
  {
   "cell_type": "markdown",
   "metadata": {
    "colab_type": "text",
    "id": "HRrr1hAnxwhf"
   },
   "source": [
    "Some dataset may have duplicates and we can drop them by using drop_duplicates\n",
    "\n",
    "By default inplace = false and it will return a dataframe will duplicates remove and keep the original dataframe intact.\n",
    "\n",
    "inplace = true will drop the duplicates directly from the dataframe.\n"
   ]
  },
  {
   "cell_type": "code",
   "execution_count": null,
   "metadata": {
    "colab": {},
    "colab_type": "code",
    "id": "ooL5gjDnXkzg"
   },
   "outputs": [],
   "source": [
    "#Checking for duplicates and removing them\n",
    "df.drop_duplicates(inplace = True)"
   ]
  },
  {
   "cell_type": "markdown",
   "metadata": {
    "colab_type": "text",
    "id": "Re_KuHnezoyc"
   },
   "source": [
    "After dropping the duplicate, let's check if there is any changes to the number of rows of data"
   ]
  },
  {
   "cell_type": "code",
   "execution_count": null,
   "metadata": {
    "colab": {},
    "colab_type": "code",
    "id": "VIXHC1NcXmif"
   },
   "outputs": [],
   "source": [
    "#Show the new shape (number of rows & columns)\n",
    "df.shape"
   ]
  },
  {
   "cell_type": "markdown",
   "metadata": {
    "colab_type": "text",
    "id": "MUrIeEUbz8qD"
   },
   "source": [
    "We can make use of df.isnull() to check if there are any missing data to do any preprocessing if neccessary"
   ]
  },
  {
   "cell_type": "code",
   "execution_count": null,
   "metadata": {
    "colab": {},
    "colab_type": "code",
    "id": "Jvd_k-5LXpMX"
   },
   "outputs": [],
   "source": [
    "#Show the number of missing (NAN, NaN, na) data for each column\n",
    "df.isnull().sum()\n",
    "# df.isnull().any()"
   ]
  },
  {
   "cell_type": "markdown",
   "metadata": {
    "colab_type": "text",
    "id": "9gB1BO9_q1lu"
   },
   "source": [
    "The dataset contains both records that are malware(1) and also benign(0). Let's take a look at how many of each type of data. "
   ]
  },
  {
   "cell_type": "code",
   "execution_count": null,
   "metadata": {
    "colab": {},
    "colab_type": "code",
    "id": "AKEoAkATXrqn"
   },
   "outputs": [],
   "source": [
    "# list the CLASS and the number of records with it\n",
    "df[\"CLASS\"].value_counts()"
   ]
  },
  {
   "cell_type": "markdown",
   "metadata": {
    "colab_type": "text",
    "id": "MPtujTErrEWJ"
   },
   "source": [
    "For ease of visualisation, we can also display it in a statistical graphic."
   ]
  },
  {
   "cell_type": "code",
   "execution_count": null,
   "metadata": {
    "colab": {},
    "colab_type": "code",
    "id": "Jo1hJYCpX5Mu"
   },
   "outputs": [],
   "source": [
    "sns.countplot(df[\"CLASS\"])\n",
    "plt.show()"
   ]
  },
  {
   "cell_type": "markdown",
   "metadata": {
    "colab_type": "text",
    "id": "lBkc0ar4roGf"
   },
   "source": [
    "As seen in the earlier part of the lesson, KNN uses X and Y-axis. Using the dataset given, we can see that  \"NAME\" is not an important feature. \n",
    "\n",
    "**Features** are the descriptive attributes, and **label** is what you're attempting to predict or forecast. \n",
    "\n",
    "Thus, for x-axis, we will be using all the features columns, which means all columns except \"CLASS\" and \"NAME\".\n",
    "And for y-axis, we will be using just the label, which is \"CLASS\""
   ]
  },
  {
   "cell_type": "code",
   "execution_count": null,
   "metadata": {
    "colab": {},
    "colab_type": "code",
    "id": "flBXY2ncZC9_"
   },
   "outputs": [],
   "source": [
    "x = df.drop(['CLASS', 'NAME'], axis=1) #axis = 0 (drop by index), axis = 1 (drop by columns)\n",
    "x.head()"
   ]
  },
  {
   "cell_type": "code",
   "execution_count": null,
   "metadata": {
    "colab": {
     "base_uri": "https://localhost:8080/",
     "height": 230
    },
    "colab_type": "code",
    "executionInfo": {
     "elapsed": 634,
     "status": "ok",
     "timestamp": 1600759325832,
     "user": {
      "displayName": "Jasmine Ng",
      "photoUrl": "",
      "userId": "03140874638654819624"
     },
     "user_tz": -480
    },
    "id": "eZkN-S9WdiDl",
    "outputId": "03a26135-eecd-4797-90d6-d51d275ff78e"
   },
   "outputs": [],
   "source": [
    "y=df[\"CLASS\"]\n",
    "y"
   ]
  },
  {
   "cell_type": "markdown",
   "metadata": {
    "colab_type": "text",
    "id": "MnnWHPYqsPjq"
   },
   "source": [
    "For this exercise, we will be using KNN to perform classification. Let's import the data."
   ]
  },
  {
   "cell_type": "code",
   "execution_count": null,
   "metadata": {
    "colab": {},
    "colab_type": "code",
    "id": "MB75x2YEdkdl"
   },
   "outputs": [],
   "source": [
    "from sklearn.neighbors import KNeighborsClassifier\n",
    "from sklearn.model_selection import train_test_split"
   ]
  },
  {
   "cell_type": "markdown",
   "metadata": {
    "colab_type": "text",
    "id": "fklhC2Xysbru"
   },
   "source": [
    "A dataset consists alot of data that we can spilt into 80-20 such that 80% of the data is used for training while 20% of the data is used to test the accuracy of our model."
   ]
  },
  {
   "cell_type": "code",
   "execution_count": null,
   "metadata": {
    "colab": {},
    "colab_type": "code",
    "id": "yp0LxGHKehVn"
   },
   "outputs": [],
   "source": [
    "x_train,x_test,y_train,y_test=train_test_split(x,y, shuffle=True, test_size=0.2, stratify=y)"
   ]
  },
  {
   "cell_type": "code",
   "execution_count": null,
   "metadata": {
    "colab": {
     "base_uri": "https://localhost:8080/",
     "height": 70
    },
    "colab_type": "code",
    "executionInfo": {
     "elapsed": 966,
     "status": "ok",
     "timestamp": 1600759674791,
     "user": {
      "displayName": "Jasmine Ng",
      "photoUrl": "",
      "userId": "03140874638654819624"
     },
     "user_tz": -480
    },
    "id": "W66L0gLUcrd8",
    "outputId": "2f245b63-3388-4476-df87-293000e6f93f"
   },
   "outputs": [],
   "source": [
    "y_train.value_counts()"
   ]
  },
  {
   "cell_type": "code",
   "execution_count": null,
   "metadata": {
    "colab": {
     "base_uri": "https://localhost:8080/",
     "height": 70
    },
    "colab_type": "code",
    "executionInfo": {
     "elapsed": 768,
     "status": "ok",
     "timestamp": 1600759674791,
     "user": {
      "displayName": "Jasmine Ng",
      "photoUrl": "",
      "userId": "03140874638654819624"
     },
     "user_tz": -480
    },
    "id": "Adxr-k8Ocs0Q",
    "outputId": "bd8f154e-8d6b-406e-b515-5f352aeb7fe8"
   },
   "outputs": [],
   "source": [
    "y_test.value_counts()"
   ]
  },
  {
   "cell_type": "markdown",
   "metadata": {
    "colab_type": "text",
    "id": "lKd93zfus7lt"
   },
   "source": [
    "Remember that in KNN, K is a hyperparameter that is used to tune our model. In this example there are 2 classes, thus typically used K will be 3, 5, 7 etc.\n",
    "\n",
    "Next, let's train the model with the training data x_train, y_train."
   ]
  },
  {
   "cell_type": "code",
   "execution_count": null,
   "metadata": {
    "colab": {
     "base_uri": "https://localhost:8080/",
     "height": 70
    },
    "colab_type": "code",
    "executionInfo": {
     "elapsed": 984,
     "status": "ok",
     "timestamp": 1600759770207,
     "user": {
      "displayName": "Jasmine Ng",
      "photoUrl": "",
      "userId": "03140874638654819624"
     },
     "user_tz": -480
    },
    "id": "joiaY45Sei7Y",
    "outputId": "6e880073-6243-4aea-8671-5039fb6d1e0b"
   },
   "outputs": [],
   "source": [
    "model = KNeighborsClassifier(n_neighbors=3)\n",
    "model.fit(x_train,y_train)"
   ]
  },
  {
   "cell_type": "markdown",
   "metadata": {
    "colab_type": "text",
    "id": "yOxzHmQ-vFlr"
   },
   "source": [
    "**model.score** return the mean accuracy on the given test data and labels."
   ]
  },
  {
   "cell_type": "code",
   "execution_count": null,
   "metadata": {
    "colab": {
     "base_uri": "https://localhost:8080/",
     "height": 35
    },
    "colab_type": "code",
    "executionInfo": {
     "elapsed": 1261,
     "status": "ok",
     "timestamp": 1600759770917,
     "user": {
      "displayName": "Jasmine Ng",
      "photoUrl": "",
      "userId": "03140874638654819624"
     },
     "user_tz": -480
    },
    "id": "FaDfIPIXel_X",
    "outputId": "20af6ea5-f92c-4c62-820c-1d62c0db66c4"
   },
   "outputs": [],
   "source": [
    "model.score(x_test,y_test)\n"
   ]
  },
  {
   "cell_type": "markdown",
   "metadata": {
    "colab_type": "text",
    "id": "8DgIY9WOv9PS"
   },
   "source": [
    "We can now use the model to do some classify if it is malware or not. Let's send in the 20% test data that we have kept."
   ]
  },
  {
   "cell_type": "code",
   "execution_count": null,
   "metadata": {
    "colab": {
     "base_uri": "https://localhost:8080/",
     "height": 177
    },
    "colab_type": "code",
    "executionInfo": {
     "elapsed": 1200,
     "status": "ok",
     "timestamp": 1600759770628,
     "user": {
      "displayName": "Jasmine Ng",
      "photoUrl": "",
      "userId": "03140874638654819624"
     },
     "user_tz": -480
    },
    "id": "b3AnRLE_ekqu",
    "outputId": "e55302ae-2f61-4be2-dd49-5aabd383a89e"
   },
   "outputs": [],
   "source": [
    "pred=model.predict(x_test)\n",
    "pred"
   ]
  },
  {
   "cell_type": "markdown",
   "metadata": {
    "colab_type": "text",
    "id": "gYPnnMa2wwmR"
   },
   "source": [
    "To be able to know if the above test data is correct, we will definitely need to compare it with y_test."
   ]
  },
  {
   "cell_type": "code",
   "execution_count": null,
   "metadata": {
    "colab": {
     "base_uri": "https://localhost:8080/",
     "height": 230
    },
    "colab_type": "code",
    "executionInfo": {
     "elapsed": 885,
     "status": "ok",
     "timestamp": 1600760415168,
     "user": {
      "displayName": "Jasmine Ng",
      "photoUrl": "",
      "userId": "03140874638654819624"
     },
     "user_tz": -480
    },
    "id": "DUoTEdicwW1s",
    "outputId": "7d54ea9a-8e23-47d0-ea8c-afcc26e4610f"
   },
   "outputs": [],
   "source": [
    "y_test"
   ]
  },
  {
   "cell_type": "markdown",
   "metadata": {
    "colab_type": "text",
    "id": "4n0r2PfSw2XS"
   },
   "source": [
    "However these data above are very difficult to compare. \n",
    "\n",
    "We can make use of dataframe to put the data size by size for easy comparison."
   ]
  },
  {
   "cell_type": "code",
   "execution_count": null,
   "metadata": {
    "colab": {
     "base_uri": "https://localhost:8080/",
     "height": 411
    },
    "colab_type": "code",
    "executionInfo": {
     "elapsed": 790,
     "status": "ok",
     "timestamp": 1600760624599,
     "user": {
      "displayName": "Jasmine Ng",
      "photoUrl": "",
      "userId": "03140874638654819624"
     },
     "user_tz": -480
    },
    "id": "OmsrUQoxenRu",
    "outputId": "495d2256-304c-4320-f44d-dad83e691496"
   },
   "outputs": [],
   "source": [
    "result=pd.DataFrame({\n",
    "    \"Actual_Value\":y_test,\n",
    "    \"Predict_Value\":pred\n",
    "})\n",
    "result"
   ]
  },
  {
   "cell_type": "markdown",
   "metadata": {
    "colab_type": "text",
    "id": "Ej6m0NTXxNcV"
   },
   "source": [
    "There are approximately 180 rows of data in the test data and it is too tedious to check through row by row on its accuracy.\n",
    "\n",
    "In **sklearn.metrics**, there are classification report, confusion matrix and accuracy score that we can use to see how accuracy is this model when tested on our test data\n"
   ]
  },
  {
   "cell_type": "markdown",
   "metadata": {
    "colab_type": "text",
    "id": "8flzmUOp2kCz"
   },
   "source": [
    "\n",
    "## **Classification report** shows the Precision, Recall, F1-Score and Support.\n",
    "\n",
    "**Precision** is defined as as the ratio of true positives to the sum of true and false positives.\n",
    "Precision = True Positive / (True Positive + False Positive)\n",
    "\n",
    "**Recall** is defined as the ratio of true positives to the sum of true positives and false negatives.\n",
    "Recall = True Positive / (True Positive + False Negative)\n",
    "\n",
    "The **F1 score** is a weighted harmonic mean of precision and recall \n",
    "F1 score = 2 x Precision x Recall / (Precision + Recall)\n",
    "\n",
    "**Support** is the number of actual occurrences of the class in the specified dataset."
   ]
  },
  {
   "cell_type": "code",
   "execution_count": null,
   "metadata": {
    "colab": {
     "base_uri": "https://localhost:8080/",
     "height": 195
    },
    "colab_type": "code",
    "executionInfo": {
     "elapsed": 1952,
     "status": "ok",
     "timestamp": 1600760801569,
     "user": {
      "displayName": "Jasmine Ng",
      "photoUrl": "",
      "userId": "03140874638654819624"
     },
     "user_tz": -480
    },
    "id": "rmCpfQvQe1bH",
    "outputId": "02886e56-0d9b-4b9a-97b7-90226a42ce6a"
   },
   "outputs": [],
   "source": [
    "#Evaluate the model on the training data set\n",
    "from sklearn.metrics import classification_report,confusion_matrix, accuracy_score\n",
    "pred = model.predict(x_train)\n",
    "print('Classification Report: \\n',classification_report(y_train ,pred ))\n"
   ]
  },
  {
   "cell_type": "markdown",
   "metadata": {
    "colab_type": "text",
    "id": "J-ep9wKMx4eP"
   },
   "source": [
    "Next let's look at the confusion matrix and accuracy"
   ]
  },
  {
   "cell_type": "code",
   "execution_count": null,
   "metadata": {
    "colab": {
     "base_uri": "https://localhost:8080/",
     "height": 106
    },
    "colab_type": "code",
    "executionInfo": {
     "elapsed": 1606,
     "status": "ok",
     "timestamp": 1600762471213,
     "user": {
      "displayName": "Jasmine Ng",
      "photoUrl": "",
      "userId": "03140874638654819624"
     },
     "user_tz": -480
    },
    "id": "eOrCjo9vx1dV",
    "outputId": "465a52ea-76cd-45d5-9367-fccd7fe5fe22"
   },
   "outputs": [],
   "source": [
    "print('Confusion Matrix: \\n',confusion_matrix(y_train,pred))\n",
    "print()\n",
    "print('Accuracy: ', accuracy_score(y_train,pred))"
   ]
  },
  {
   "cell_type": "markdown",
   "metadata": {
    "colab_type": "text",
    "id": "5yoFeWEB4Psb"
   },
   "source": [
    "To make the confusion matrix easier to understand, we can plot it for easier visualisation"
   ]
  },
  {
   "cell_type": "code",
   "execution_count": null,
   "metadata": {
    "colab": {
     "base_uri": "https://localhost:8080/",
     "height": 348
    },
    "colab_type": "code",
    "executionInfo": {
     "elapsed": 2257,
     "status": "ok",
     "timestamp": 1600762427208,
     "user": {
      "displayName": "Jasmine Ng",
      "photoUrl": "",
      "userId": "03140874638654819624"
     },
     "user_tz": -480
    },
    "id": "WccpJYJN3vDW",
    "outputId": "b1957133-63b7-4ad0-d66e-91ffdb905b7e"
   },
   "outputs": [],
   "source": [
    "from sklearn.metrics import plot_confusion_matrix\n",
    "titles_options = [(\"Confusion matrix for training data\", None)]\n",
    "for title, normalize in titles_options:\n",
    "    disp = plot_confusion_matrix(model, x_train, y_train,\n",
    "                                 display_labels=y_train,\n",
    "                                 cmap=plt.cm.Blues,\n",
    "                                 values_format='')\n",
    "    disp.ax_.set_title(title)\n",
    "\n",
    "    print(title)\n",
    "    \n",
    "plt.show()"
   ]
  },
  {
   "cell_type": "markdown",
   "metadata": {
    "colab_type": "text",
    "id": "8dPUkjW84f95"
   },
   "source": [
    "Last but not least, let's evaluate the model on the testing data"
   ]
  },
  {
   "cell_type": "code",
   "execution_count": null,
   "metadata": {
    "colab": {
     "base_uri": "https://localhost:8080/",
     "height": 266
    },
    "colab_type": "code",
    "executionInfo": {
     "elapsed": 809,
     "status": "ok",
     "timestamp": 1600759759077,
     "user": {
      "displayName": "Jasmine Ng",
      "photoUrl": "",
      "userId": "03140874638654819624"
     },
     "user_tz": -480
    },
    "id": "FwbIMvB4fBte",
    "outputId": "ca41e16f-1f68-4e5b-9ecc-4c4b12e825d7"
   },
   "outputs": [],
   "source": [
    "#Evaluate the model on the testing data\n",
    "pred = model.predict(x_test)\n",
    "print(classification_report(y_test ,pred ))\n",
    "print('Confusion Matrix: \\n',confusion_matrix(y_test,pred))\n",
    "print()\n",
    "print('Accuracy: ', accuracy_score(y_test,pred))"
   ]
  },
  {
   "cell_type": "code",
   "execution_count": null,
   "metadata": {
    "colab": {
     "base_uri": "https://localhost:8080/",
     "height": 348
    },
    "colab_type": "code",
    "executionInfo": {
     "elapsed": 1507,
     "status": "ok",
     "timestamp": 1600762434382,
     "user": {
      "displayName": "Jasmine Ng",
      "photoUrl": "",
      "userId": "03140874638654819624"
     },
     "user_tz": -480
    },
    "id": "XsXvOaCn3BTa",
    "outputId": "3814c459-b90f-4321-8675-317fab077c86"
   },
   "outputs": [],
   "source": [
    "from sklearn.metrics import plot_confusion_matrix\n",
    "titles_options = [(\"Confusion matrix for testing data\", None)]\n",
    "for title, normalize in titles_options:\n",
    "    disp = plot_confusion_matrix(model, x_test, y_test,\n",
    "                                 display_labels=y_test,\n",
    "                                 cmap=plt.cm.Blues,\n",
    "                                 values_format='')\n",
    "    disp.ax_.set_title(title)\n",
    "\n",
    "    print(title)\n",
    "    print(disp.confusion_matrix)\n",
    "\n",
    "plt.show()"
   ]
  },
  {
   "cell_type": "code",
   "execution_count": null,
   "metadata": {},
   "outputs": [],
   "source": []
  }
 ],
 "metadata": {
  "colab": {
   "collapsed_sections": [],
   "name": "Malware_Classification_KNN.ipynb",
   "provenance": [
    {
     "file_id": "1SjKvilrqoUh4CuP7mLHhwIqA7_HzgIFv",
     "timestamp": 1600668016418
    }
   ]
  },
  "kernelspec": {
   "display_name": "Python 3",
   "language": "python",
   "name": "python3"
  },
  "language_info": {
   "codemirror_mode": {
    "name": "ipython",
    "version": 3
   },
   "file_extension": ".py",
   "mimetype": "text/x-python",
   "name": "python",
   "nbconvert_exporter": "python",
   "pygments_lexer": "ipython3",
   "version": "3.8.3"
  }
 },
 "nbformat": 4,
 "nbformat_minor": 4
}
