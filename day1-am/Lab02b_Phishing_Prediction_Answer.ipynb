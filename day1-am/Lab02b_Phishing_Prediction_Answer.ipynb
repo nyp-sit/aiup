{
  "nbformat": 4,
  "nbformat_minor": 0,
  "metadata": {
    "colab": {
      "provenance": [],
      "collapsed_sections": [],
      "include_colab_link": true
    },
    "kernelspec": {
      "display_name": "Python 3",
      "language": "python",
      "name": "python3"
    },
    "language_info": {
      "codemirror_mode": {
        "name": "ipython",
        "version": 3
      },
      "file_extension": ".py",
      "mimetype": "text/x-python",
      "name": "python",
      "nbconvert_exporter": "python",
      "pygments_lexer": "ipython3",
      "version": "3.8.3"
    }
  },
  "cells": [
    {
      "cell_type": "markdown",
      "metadata": {
        "id": "view-in-github",
        "colab_type": "text"
      },
      "source": [
        "<a href=\"https://colab.research.google.com/github/nyp-sit/aiup/blob/main/day1-am/Lab02b_Phishing_Prediction_Answer.ipynb\" target=\"_parent\"><img src=\"https://colab.research.google.com/assets/colab-badge.svg\" alt=\"Open In Colab\"/></a>"
      ]
    },
    {
      "cell_type": "markdown",
      "metadata": {
        "id": "LKnCeRyk5qdw"
      },
      "source": [
        "<img src=\"https://www.nyp.edu.sg/content/dam/nyp/logo.png\" width='200'/>\n",
        "\n",
        "Welcome to the lab! Before we get started here are a few pointers on Colab notebooks.\n",
        "\n",
        "1. The notebook is composed of cells; cells can contain code which you can run, or they can hold text and/or images which are there for you to read.\n",
        "\n",
        "2. You can execute code cells by clicking the ```Run``` icon in the menu, or via the following keyboard shortcuts ```Shift-Enter``` (run and advance) or ```Ctrl-Enter``` (run and stay in the current cell).\n",
        "\n",
        "3. To interrupt cell execution, click the ```Stop``` button on the toolbar or navigate to the ```Kernel``` menu, and select ```Interrupt ```.\n",
        "    "
      ]
    },
    {
      "cell_type": "markdown",
      "metadata": {
        "id": "PnkQStr-AVh4"
      },
      "source": [
        "# Phishing Prediction Exercise using K-Nearest Neighbour (Answer)\n",
        "In this lab, we will be working with a Phishing Dataset to train a K-Nearest Neighbour (KNN). \n",
        "\n",
        "There are some parts that requires your input and some blanks indicated with **None** for you to fill in.\n",
        "\n",
        "This lab is very similiar to the Malware Prediction, except that we are using a different dataset."
      ]
    },
    {
      "cell_type": "code",
      "metadata": {
        "id": "rUI3BSj1WQZU"
      },
      "source": [
        "import pandas as pd\n",
        "import matplotlib.pyplot as plt\n",
        "import seaborn as sns"
      ],
      "execution_count": null,
      "outputs": []
    },
    {
      "cell_type": "markdown",
      "metadata": {
        "id": "w1GQ568WBii4"
      },
      "source": [
        "### Exercise 1: Read the csv file"
      ]
    },
    {
      "cell_type": "code",
      "metadata": {
        "id": "NGvvqzEP5r_O"
      },
      "source": [
        "!wget https://nyp-aicourse.s3-ap-southeast-1.amazonaws.com/aiup/day1-am/phishing_dataset.csv"
      ],
      "execution_count": null,
      "outputs": []
    },
    {
      "cell_type": "code",
      "metadata": {
        "id": "tgAb595FXCPo"
      },
      "source": [
        "# Ex1a: Load the data - answer\n",
        "file_name = 'phishing_dataset.csv'\n",
        "df = pd.read_csv(file_name, index_col='index')"
      ],
      "execution_count": null,
      "outputs": []
    },
    {
      "cell_type": "markdown",
      "metadata": {
        "id": "wAyyUFcc_WAA"
      },
      "source": [
        "### Exercise 2: Preview and process the data"
      ]
    },
    {
      "cell_type": "code",
      "metadata": {
        "id": "g2ZyeaSo_ayc"
      },
      "source": [
        "df.head(5)"
      ],
      "execution_count": null,
      "outputs": []
    },
    {
      "cell_type": "code",
      "metadata": {
        "id": "7ejrrtGZYKSP"
      },
      "source": [
        "df.tail(5)"
      ],
      "execution_count": null,
      "outputs": []
    },
    {
      "cell_type": "code",
      "metadata": {
        "id": "ifgNHYCxXMDn"
      },
      "source": [
        "# Print the shape (Get the number of rows and cols)\n",
        "df.shape"
      ],
      "execution_count": null,
      "outputs": []
    },
    {
      "cell_type": "code",
      "metadata": {
        "id": "PGu9WnJDXjkH"
      },
      "source": [
        "# Ex2a: Get the column names -- answer\n",
        "df.columns"
      ],
      "execution_count": null,
      "outputs": []
    },
    {
      "cell_type": "code",
      "metadata": {
        "id": "c5qZ1v4eFePW"
      },
      "source": [
        "# Ex2b: display the correlation of the dataset -- answer\n",
        "df.corr()"
      ],
      "execution_count": null,
      "outputs": []
    },
    {
      "cell_type": "code",
      "metadata": {
        "id": "ooL5gjDnXkzg"
      },
      "source": [
        "# Checking for duplicates and removing them\n",
        "df.drop_duplicates(inplace = True)"
      ],
      "execution_count": null,
      "outputs": []
    },
    {
      "cell_type": "code",
      "metadata": {
        "id": "VIXHC1NcXmif"
      },
      "source": [
        "# Show the new shape (number of rows & columns)\n",
        "df.shape"
      ],
      "execution_count": null,
      "outputs": []
    },
    {
      "cell_type": "code",
      "metadata": {
        "id": "Jvd_k-5LXpMX"
      },
      "source": [
        "# Show the number of missing (NAN, NaN, na) data for each column\n",
        "df.isnull().sum()"
      ],
      "execution_count": null,
      "outputs": []
    },
    {
      "cell_type": "code",
      "metadata": {
        "id": "AKEoAkATXrqn"
      },
      "source": [
        "# list the different result and the number of records with it\n",
        "df[\"Result\"].value_counts()"
      ],
      "execution_count": null,
      "outputs": []
    },
    {
      "cell_type": "code",
      "metadata": {
        "id": "Jo1hJYCpX5Mu"
      },
      "source": [
        "# Ex2c: Use a statistical graph to visualise the data above -- answer\n",
        "sns.countplot(df[\"Result\"])\n",
        "plt.show()"
      ],
      "execution_count": null,
      "outputs": []
    },
    {
      "cell_type": "markdown",
      "metadata": {
        "id": "AQeFmDAsAVUo"
      },
      "source": [
        "### Exerise 3: Identify the features and label"
      ]
    },
    {
      "cell_type": "code",
      "metadata": {
        "id": "flBXY2ncZC9_"
      },
      "source": [
        "# Ex3a: Define x-axis -- answer\n",
        "x = df.drop([\"Result\"],axis=1) #axis = 0 (drop by index), axis = 1"
      ],
      "execution_count": null,
      "outputs": []
    },
    {
      "cell_type": "code",
      "source": [
        "x"
      ],
      "metadata": {
        "id": "PG7J3SqFDLxW"
      },
      "execution_count": null,
      "outputs": []
    },
    {
      "cell_type": "code",
      "metadata": {
        "id": "eZkN-S9WdiDl"
      },
      "source": [
        "# Ex3b: Define y-axis -- answer\n",
        "y = df[\"Result\"]\n",
        "y"
      ],
      "execution_count": null,
      "outputs": []
    },
    {
      "cell_type": "markdown",
      "metadata": {
        "id": "5TKqTxPqBoFb"
      },
      "source": [
        "### Exercise 4: Choose and train the model\n",
        "We will be using KNearestNeighbour for this exercise"
      ]
    },
    {
      "cell_type": "code",
      "metadata": {
        "id": "MB75x2YEdkdl"
      },
      "source": [
        "from sklearn.neighbors import KNeighborsClassifier\n",
        "from sklearn.model_selection import train_test_split"
      ],
      "execution_count": null,
      "outputs": []
    },
    {
      "cell_type": "code",
      "metadata": {
        "id": "yp0LxGHKehVn"
      },
      "source": [
        "# Ex4a: spilt the data -- answer\n",
        "x_train,x_test,y_train,y_test=train_test_split(x,y, shuffle=True, test_size=0.2, stratify=y)"
      ],
      "execution_count": null,
      "outputs": []
    },
    {
      "cell_type": "code",
      "metadata": {
        "id": "joiaY45Sei7Y"
      },
      "source": [
        "# Ex4b: train the model -- answer\n",
        "model=KNeighborsClassifier(n_neighbors=5)\n",
        "model.fit(x_train,y_train)"
      ],
      "execution_count": null,
      "outputs": []
    },
    {
      "cell_type": "code",
      "metadata": {
        "id": "b3AnRLE_ekqu"
      },
      "source": [
        "pred=model.predict(x_test)\n",
        "pred"
      ],
      "execution_count": null,
      "outputs": []
    },
    {
      "cell_type": "code",
      "metadata": {
        "id": "FaDfIPIXel_X"
      },
      "source": [
        "# Ex4c: display the model score -- answer\n",
        "model.score(x_test,y_test)"
      ],
      "execution_count": null,
      "outputs": []
    },
    {
      "cell_type": "code",
      "metadata": {
        "id": "OmsrUQoxenRu"
      },
      "source": [
        "result=pd.DataFrame({\n",
        "    \"Actual_Value\":y_test,\n",
        "    \"Predict_Value\":pred\n",
        "})\n",
        "result"
      ],
      "execution_count": null,
      "outputs": []
    },
    {
      "cell_type": "markdown",
      "metadata": {
        "id": "OdoF5XW7CsN1"
      },
      "source": [
        "### Exercise 5: Evaluate the model and display the reports\n",
        "\n",
        "\n"
      ]
    },
    {
      "cell_type": "code",
      "metadata": {
        "id": "k-I7IFQhDA2W"
      },
      "source": [
        "# Ex5a: Evaluate the model using the training data -- answer\n",
        "pred = model.predict(x_train)"
      ],
      "execution_count": null,
      "outputs": []
    },
    {
      "cell_type": "code",
      "metadata": {
        "id": "6FHrECnZDHCq"
      },
      "source": [
        "from sklearn.metrics import classification_report,confusion_matrix, accuracy_score"
      ],
      "execution_count": null,
      "outputs": []
    },
    {
      "cell_type": "code",
      "metadata": {
        "id": "rmCpfQvQe1bH"
      },
      "source": [
        "# Ex5b: Display classification report -- answer\n",
        "print('Classification Report: \\n',classification_report(y_train ,pred ))"
      ],
      "execution_count": null,
      "outputs": []
    },
    {
      "cell_type": "code",
      "metadata": {
        "id": "Zj_3LrOKDeH1"
      },
      "source": [
        "# Ex5c: Display Confusion Matrix and accuracy -- answer\n",
        "print('Confusion Matrix: \\n',confusion_matrix(y_train,pred))\n",
        "print()\n",
        "print('Accuracy: ', accuracy_score(y_train,pred))"
      ],
      "execution_count": null,
      "outputs": []
    },
    {
      "cell_type": "code",
      "metadata": {
        "id": "jb3qV5XiDxIK"
      },
      "source": [
        "# Ex5c (optional): Plot the Confusion Matrix for easy visualisation -- answer\n",
        "from sklearn.metrics import plot_confusion_matrix\n",
        "titles_options = [(\"Confusion matrix for training data\", None)]\n",
        "for title, normalize in titles_options:\n",
        "    disp = plot_confusion_matrix(model, x_train, y_train,\n",
        "                                 display_labels=None,\n",
        "                                 cmap=plt.cm.Blues,\n",
        "                                 values_format='')\n",
        "    disp.ax_.set_title(title)\n",
        "\n",
        "    print(title)\n",
        "\n",
        "plt.show()"
      ],
      "execution_count": null,
      "outputs": []
    },
    {
      "cell_type": "code",
      "metadata": {
        "id": "FwbIMvB4fBte"
      },
      "source": [
        "# Ex5d: repeat Ex5a-5c on testing data -- answer\n",
        "pred = model.predict(x_test)\n",
        "print(classification_report(y_test ,pred ))\n",
        "print('Confusion Matrix: \\n',confusion_matrix(y_test,pred))\n",
        "print()\n",
        "print('Accuracy: ', accuracy_score(y_test,pred))\n",
        "print()\n",
        "titles_options = [(\"Confusion matrix for testing data\", None)]\n",
        "for title, normalize in titles_options:\n",
        "    disp = plot_confusion_matrix(model, x_test, y_test,\n",
        "                                 display_labels=None,\n",
        "                                 cmap=plt.cm.Blues,\n",
        "                                 values_format='')\n",
        "    disp.ax_.set_title(title)\n",
        "\n",
        "    print(title)\n",
        "\n",
        "plt.show()"
      ],
      "execution_count": null,
      "outputs": []
    }
  ]
}