{
 "cells": [
  {
   "cell_type": "markdown",
   "metadata": {
    "id": "IkjYbDqkU8oD"
   },
   "source": [
    "<img src=\"https://www.nyp.edu.sg/content/dam/nyp/logo.png\" width='200'/>\n",
    "\n",
    "Welcome to the lab! Before we get started here are a few pointers on Jupyter notebooks.\n",
    "\n",
    "1. The notebook is composed of cells; cells can contain code which you can run, or they can hold text and/or images which are there for you to read.\n",
    "\n",
    "2. You can execute code cells by clicking the ```Run``` icon in the menu, or via the following keyboard shortcuts ```Shift-Enter``` (run and advance) or ```Ctrl-Enter``` (run and stay in the current cell).\n",
    "\n",
    "3. To interrupt cell execution, click the ```Stop``` button on the toolbar or navigate to the ```Kernel``` menu, and select ```Interrupt ```.\n"
   ]
  },
  {
   "cell_type": "markdown",
   "metadata": {
    "id": "5_2jIVkz_ciq"
   },
   "source": [
    "# Lab 1 - Sentiment Analysis with Scikit-Learn\n",
    "\n",
    "In this lab exercise, we will learn how to perform Sentiment Analysis with Scikit-Learn, a popular Machine Learning toolkit for Classical Machine Learning. Sentiment Analysis is a Text Classification task where you model learns how to classify a paragraph or a document of text into whether it is a positive or a negative sentiment.\n",
    "\n",
    "We will explore using TF-IDF and various Classical Machine Learning algorithms such as Naive Bayes and SVM to classify whether sentiments of movie reviews are positive or negative."
   ]
  },
  {
   "cell_type": "code",
   "execution_count": 2,
   "metadata": {
    "colab": {
     "base_uri": "https://localhost:8080/"
    },
    "id": "URDv6NK1_J0N",
    "outputId": "d45edf87-6820-4cb2-842b-34bc5a118025"
   },
   "outputs": [
    {
     "name": "stdout",
     "output_type": "stream",
     "text": [
      "[nltk_data] Downloading package punkt to /root/nltk_data...\n",
      "[nltk_data]   Unzipping tokenizers/punkt.zip.\n",
      "[nltk_data] Downloading package wordnet to /root/nltk_data...\n",
      "[nltk_data]   Unzipping corpora/wordnet.zip.\n",
      "Importing helpers complete.\n"
     ]
    }
   ],
   "source": [
    "!wget https://nyp-aicourse.s3-ap-southeast-1.amazonaws.com/datasets/day2-pm/lab1/lab1.zip\n",
    "!unzip lab1.zip\n",
    "\n",
    "from helpers import *\n",
    "print (\"Importing helpers complete.\")"
   ]
  },
  {
   "cell_type": "markdown",
   "metadata": {
    "id": "DCu3FO7JU8oH"
   },
   "source": [
    "## Section 1.1 - Explore Your Data\n",
    "\n",
    "Take a look at the IMDB Dataset.csv to see format of the text file that we will be using for this exercise. If you intend to use this set of Jupyter Notebooks later for your own Sentiment Analysis projects, please ensure that you collect your data in this format.\n",
    "\n",
    "There are 50,000 rows in the IMDB Dataset.csv file. We used Excel to cut out 40,000 rows and saved them into the train.csv file, and the remaining 10,000 rows, into the test.csv file."
   ]
  },
  {
   "cell_type": "markdown",
   "metadata": {
    "id": "TIgSk8KjA2sN"
   },
   "source": [
    "## Section 1.2 - Load Data from CSV\n",
    "\n",
    "Update the following code to load the training and test data from the correct CSV file path, and indicate the appropriate column names to extract the input text, and output classification label.\n",
    "\n",
    "The path to the training file should be **\"data/train.csv\"**, and the path to the test file should be **\"test.csv\"**. The column names to the input text and output labels can be found in the train.csv and test.csv files.\n"
   ]
  },
  {
   "cell_type": "code",
   "execution_count": 4,
   "metadata": {
    "colab": {
     "base_uri": "https://localhost:8080/"
    },
    "id": "cAqxtMB4A2A0",
    "outputId": "f80d0edb-4c07-4d68-b78b-8ce4f5bb0357"
   },
   "outputs": [
    {
     "name": "stdout",
     "output_type": "stream",
     "text": [
      "Loading training data...\n",
      "Loading test data...\n",
      "Loading complete.\n"
     ]
    }
   ],
   "source": [
    "# TODO: Set the filename to the path containing our training and test files. \n",
    "#\n",
    "load_text_data_from_csv_for_scikit(\n",
    "    \"data/train.csv\",                           # The training CSV file\n",
    "    \"data/test.csv\",                           # The test CSV file\n",
    "    \"review\",                           # The column in the CSV used as the input text\n",
    "    \"sentiment\")                           # The column in the CSV used as the output classification label"
   ]
  },
  {
   "cell_type": "markdown",
   "metadata": {
    "id": "L5m0pS7DU8oK"
   },
   "source": [
    "## Section 1.3 - Display Loaded Data\n",
    "\n",
    "Run the following code to display the training data that we have loaded.\n",
    "\n",
    "Can you identify which parts are the input texts, and which parts are the output labels?"
   ]
  },
  {
   "cell_type": "code",
   "execution_count": 5,
   "metadata": {
    "colab": {
     "base_uri": "https://localhost:8080/"
    },
    "id": "ko5a5Gi6U8oL",
    "outputId": "a6ed61f7-e1d6-42ba-dfb4-7f609e83343e"
   },
   "outputs": [
    {
     "name": "stdout",
     "output_type": "stream",
     "text": [
      "[\"One of the other reviewers has mentioned that after watching just 1 Oz episode you'll be hooked. They are right, as this is exactly what happened with me.<br /><br />The first thing that struck me about Oz was its brutality and unflinching scenes of violence, which set in right from the word GO. Trust me, this is not a show for the faint hearted or timid. This show pulls no punches with regards to drugs, sex or violence. Its is hardcore, in the classic use of the word.<br /><br />It is called OZ as that is the nickname given to the Oswald Maximum Security State Penitentary. It focuses mainly on Emerald City, an experimental section of the prison where all the cells have glass fronts and face inwards, so privacy is not high on the agenda. Em City is home to many..Aryans, Muslims, gangstas, Latinos, Christians, Italians, Irish and more....so scuffles, death stares, dodgy dealings and shady agreements are never far away.<br /><br />I would say the main appeal of the show is due to the fact that it goes where other shows wouldn't dare. Forget pretty pictures painted for mainstream audiences, forget charm, forget romance...OZ doesn't mess around. The first episode I ever saw struck me as so nasty it was surreal, I couldn't say I was ready for it, but as I watched more, I developed a taste for Oz, and got accustomed to the high levels of graphic violence. Not just violence, but injustice (crooked guards who'll be sold out for a nickel, inmates who'll kill on order and get away with it, well mannered, middle class inmates being turned into prison bitches due to their lack of street skills or prison experience) Watching Oz, you may become comfortable with what is uncomfortable viewing....thats if you can get in touch with your darker side.\"\n",
      " 'A wonderful little production. <br /><br />The filming technique is very unassuming- very old-time-BBC fashion and gives a comforting, and sometimes discomforting, sense of realism to the entire piece. <br /><br />The actors are extremely well chosen- Michael Sheen not only \"has got all the polari\" but he has all the voices down pat too! You can truly see the seamless editing guided by the references to Williams\\' diary entries, not only is it well worth the watching but it is a terrificly written and performed piece. A masterful production about one of the great master\\'s of comedy and his life. <br /><br />The realism really comes home with the little things: the fantasy of the guard which, rather than use the traditional \\'dream\\' techniques remains solid then disappears. It plays on our knowledge and our senses, particularly with the scenes concerning Orton and Halliwell and the sets (particularly of their flat with Halliwell\\'s murals decorating every surface) are terribly well done.'\n",
      " 'I thought this was a wonderful way to spend time on a too hot summer weekend, sitting in the air conditioned theater and watching a light-hearted comedy. The plot is simplistic, but the dialogue is witty and the characters are likable (even the well bread suspected serial killer). While some may be disappointed when they realize this is not Match Point 2: Risk Addiction, I thought it was proof that Woody Allen is still fully in control of the style many of us have grown to love.<br /><br />This was the most I\\'d laughed at one of Woody\\'s comedies in years (dare I say a decade?). While I\\'ve never been impressed with Scarlet Johanson, in this she managed to tone down her \"sexy\" image and jumped right into a average, but spirited young woman.<br /><br />This may not be the crown jewel of his career, but it was wittier than \"Devil Wears Prada\" and more interesting than \"Superman\" a great comedy to go see with friends.'\n",
      " ...\n",
      " \"This show is awesome! I love all the actors! It has great story lines and characters. It is the perfect drama. James Caan and Josh Duhamel have great dialogue. They both can be really funny.I miss Vanessa Marcil on General Hospital, but she's great on here. James Lesure is great! He can be hilarious. Molly Sims plays a dimwit very well. The writing is awesome!They keep up an excellent pace. The show can really leave you hanging, which is one of my favorite elements of a show. I cannot wait until the new season starts. This show makes it to the top ten of all my shows. I hope this show stays on for a really long time. If people know what good is, it will. I never want the show to end. Ever.\"\n",
      " \"The fact that this movie has been entitled to the most successful movie in Switzerland's film history makes me shake my head! It's true, but pitiful at the same time. A flick about the Swiss army could be a good deal better.<br /><br />The story sounds interesting, at the beginning: Antonio Carrera (Michael Koch) gets forced to absolve his military training by the army while he is in the church, wedding his love Laura Moretti (Mia Aegerter).<br /><br />The Acting in some way doesn't really differ from just a few recruits getting drunk and stoned in the reality. Melanie Winiger plays her role as the strong Michelle Bluntschi mediocre, personally i found her rather annoying. <br /><br />The storyline contains a comedy combined with a romance, which does not work as expected. The romance-part is too trashy, and the comedy-part is not funny at all, it's just a cheap try and does not change throughout the whole movie whatsoever. It's funny for preadolescent 12-13 year olds, but not for such as those who search an entertaining comedy. The humor is weak except for some shots.<br /><br />Dope? Cool! Stealing? Cool! If you want a proper comedy about the Swiss RS, make sure you did not absolve your military training yet, and even then don't expect too much!<br /><br />I'll give it 4 out of 10 stars, because Marco Rima is quite funny during his screen time. Not a hell of a lot screen time though\"\n",
      " \"I have to confess that I am severely disappointed.<br /><br />This version can in no way compete with the version of 1995. The reason why I watched it was that I wasn't entirely happy with Ciaran Hinds as Captain Wentworth and thought that Rupert Penry-Jones looked much more like the Captain I had imagined when I read the book. And he was too.<br /><br />Unfortunately that is the only redeeming quality of the film. The rest is as un-Austen-like as possible.<br /><br />Miss Elliot would NEVER have run through the streets of Bath like this. It wasn't in her character and it just wasn't done by a lady of the those times. The Anne Elliot of the book was a lady and she had dignity. There are other painful anachronisms but this was the worst.<br /><br />Although there are 3 important quotes from the book, they are at entirely inappropriate moments, warning those who know the book that yet another important part of the book will either be missing or completely changed.<br /><br />And although this version is not much shorter than the other one, it feels like everything is rushed. Very little care was taken to introduce the characters, show their dispositions and motives. Important scenes were omitted. How could they possibly have butchered the final scenes in this way ? A disaster ! And it was by far not as beautifully photographed as the other one.<br /><br />No, no, no. If you love Austen, then don't waste your time with this.\"]\n",
      "[1 1 1 ... 1 0 0]\n"
     ]
    }
   ],
   "source": [
    "display_trainx_trainy()"
   ]
  },
  {
   "cell_type": "markdown",
   "metadata": {
    "id": "7LMyYYay_J0T"
   },
   "source": [
    "## Section 1.4 - Create the Classical Machine Learning Text Classification Model\n",
    "\n",
    "The following creates the Classical Machine Learning model for our Text Classification task. \n",
    "\n",
    "We have written codes for you to create a model with Naive Bayes, or SVM. Let's start with Naive Bayes first.\n",
    "\n"
   ]
  },
  {
   "cell_type": "code",
   "execution_count": 6,
   "metadata": {
    "id": "t-OmcZTG_J0T"
   },
   "outputs": [],
   "source": [
    "# TODO:\n",
    "# Run either this or SVM.\n",
    "#\n",
    "create_text_classifier_model_naivebayes(\n",
    "    1.0,        # Additive (Laplace/Lidstone) smoothing parameter (0 for no smoothing).\n",
    "    True,       # Whether to learn class prior probabilities or not. If false, a uniform prior will be used.\n",
    "    None        # Prior probabilities of the classes. If specified the priors are not adjusted according to the data.\n",
    ")\n"
   ]
  },
  {
   "cell_type": "code",
   "execution_count": 11,
   "metadata": {
    "id": "JEXFsxLrU8oP"
   },
   "outputs": [],
   "source": [
    "# TODO:\n",
    "# Run either this or Naive Bayes.\n",
    "#\n",
    "create_text_classifier_model_svm()\n"
   ]
  },
  {
   "cell_type": "markdown",
   "metadata": {
    "id": "ii0NXEe2_J0Y"
   },
   "source": [
    "## Section 1.5 - Training and Evaluating the Model\n",
    "\n",
    "Run the following cell to perform the training. The data pipeline set up in Scikit-Learn in the helpers already uses NLTK to tokenize (split into words) and lemmatize (convert words into root forms) before converting it into Bag-of-Words + TF-IDF counts and then passing that count into the Machine Learning model. \n",
    "\n",
    "This is how the processing pipeline for Natural Language Processing in Scikit-Learn will look like.\n",
    "\n",
    "<img src=\"https://nyp-aicourse.s3-ap-southeast-1.amazonaws.com/resources/day2-pm/scikit.PNG\" />\n",
    "\n",
    "Once the training is complete, review the results below and look at how well your model is fairing. Take a look at the test data's F1 score, because it is a meaningful metric that tells us how well our model works for data that doesn't exist in the training set.\n"
   ]
  },
  {
   "cell_type": "code",
   "execution_count": 12,
   "metadata": {
    "colab": {
     "base_uri": "https://localhost:8080/",
     "height": 1000
    },
    "id": "ZTaoxoA__J0Y",
    "outputId": "c20c40e6-41d9-469d-c879-023a79b41d0c"
   },
   "outputs": [
    {
     "name": "stdout",
     "output_type": "stream",
     "text": [
      "Training classifier...\n",
      "-- Epoch 1\n",
      "Norm: 48.74, NNZs: 97786, Bias: 0.026362, T: 40000, Avg. loss: 0.358908\n",
      "Total training time: 0.05 seconds.\n",
      "-- Epoch 2\n",
      "Norm: 46.95, NNZs: 107416, Bias: -0.006218, T: 80000, Avg. loss: 0.286377\n",
      "Total training time: 0.09 seconds.\n",
      "-- Epoch 3\n",
      "Norm: 46.70, NNZs: 109855, Bias: 0.017528, T: 120000, Avg. loss: 0.275677\n",
      "Total training time: 0.13 seconds.\n",
      "-- Epoch 4\n",
      "Norm: 46.53, NNZs: 110931, Bias: 0.014560, T: 160000, Avg. loss: 0.270294\n",
      "Total training time: 0.17 seconds.\n",
      "-- Epoch 5\n",
      "Norm: 46.44, NNZs: 111383, Bias: 0.008914, T: 200000, Avg. loss: 0.267368\n",
      "Total training time: 0.21 seconds.\n",
      "-- Epoch 6\n",
      "Norm: 46.42, NNZs: 111724, Bias: 0.014832, T: 240000, Avg. loss: 0.265554\n",
      "Total training time: 0.24 seconds.\n",
      "-- Epoch 7\n",
      "Norm: 46.40, NNZs: 111905, Bias: 0.009720, T: 280000, Avg. loss: 0.264278\n",
      "Total training time: 0.28 seconds.\n",
      "-- Epoch 8\n",
      "Norm: 46.39, NNZs: 111999, Bias: 0.011099, T: 320000, Avg. loss: 0.263310\n",
      "Total training time: 0.31 seconds.\n",
      "-- Epoch 9\n",
      "Norm: 46.41, NNZs: 112034, Bias: 0.006470, T: 360000, Avg. loss: 0.262433\n",
      "Total training time: 0.34 seconds.\n",
      "-- Epoch 10\n",
      "Norm: 46.40, NNZs: 112128, Bias: 0.006595, T: 400000, Avg. loss: 0.261450\n",
      "Total training time: 0.38 seconds.\n",
      "-- Epoch 11\n",
      "Norm: 46.38, NNZs: 112177, Bias: 0.007458, T: 440000, Avg. loss: 0.260816\n",
      "Total training time: 0.41 seconds.\n",
      "-- Epoch 12\n",
      "Norm: 46.38, NNZs: 112216, Bias: 0.007670, T: 480000, Avg. loss: 0.260386\n",
      "Total training time: 0.44 seconds.\n",
      "Convergence after 12 epochs took 0.44 seconds\n",
      "Evaluating classifier...\n"
     ]
    },
    {
     "data": {
      "image/png": "[encoded data removed]",
      "text/plain": [
       "<Figure size 1440x432 with 4 Axes>"
      ]
     },
     "metadata": {
      "needs_background": "light",
      "tags": []
     },
     "output_type": "display_data"
    },
    {
     "name": "stdout",
     "output_type": "stream",
     "text": [
      "Train Data\n",
      "--------------------------------------------------------\n",
      "              precision    recall  f1-score   support\n",
      "\n",
      "    negative       0.93      0.92      0.92     20007\n",
      "    positive       0.92      0.93      0.93     19993\n",
      "\n",
      "    accuracy                           0.93     40000\n",
      "   macro avg       0.93      0.93      0.93     40000\n",
      "weighted avg       0.93      0.93      0.93     40000\n",
      "\n",
      "\n",
      "Test Data\n",
      "--------------------------------------------------------\n",
      "              precision    recall  f1-score   support\n",
      "\n",
      "    negative       0.90      0.89      0.90      4993\n",
      "    positive       0.90      0.90      0.90      5007\n",
      "\n",
      "    accuracy                           0.90     10000\n",
      "   macro avg       0.90      0.90      0.90     10000\n",
      "weighted avg       0.90      0.90      0.90     10000\n",
      "\n"
     ]
    }
   ],
   "source": [
    "train_text_classifier_model()\n"
   ]
  },
  {
   "cell_type": "markdown",
   "metadata": {
    "id": "HB0Xdglg_J0b"
   },
   "source": [
    "## Section 1.6 - Saving the Model\n",
    "\n",
    "Let's save the model into a file that we can reload and use later on.\n",
    "\n",
    "Once you have run the following cell, take a look at the file in the folder. \n",
    "\n",
    "If you trained using Naive Bayes, we recommend that you save into a file name such as **\"models/naivebayes.scikit\"**. If you trained your model with SVM, save into a file name such as **\"models/svm.scikit\"**.\n",
    "\n",
    "Once you have saved the model, head back to Step 1.4 to try and train your text classification task with another Machine Learning model."
   ]
  },
  {
   "cell_type": "code",
   "execution_count": 13,
   "metadata": {
    "id": "NXqlxZku_J0c"
   },
   "outputs": [],
   "source": [
    "# TODO: \n",
    "# Give the model a file name.\n",
    "#\n",
    "save_text_classifier_model(\"models/svm.scikit\")"
   ]
  },
  {
   "cell_type": "markdown",
   "metadata": {
    "id": "aiQAH903_J0f"
   },
   "source": [
    "## Section 1.7 - Loading the Model \n",
    "\n",
    "Update the following cell to provide the file name of your model and run the cell."
   ]
  },
  {
   "cell_type": "code",
   "execution_count": 14,
   "metadata": {
    "id": "pKYWAzsI_J0f"
   },
   "outputs": [],
   "source": [
    "# TODO: \n",
    "# Update the file name of the model that you want to load.\n",
    "#\n",
    "load_text_classifier_model(\"models/svm.scikit\")"
   ]
  },
  {
   "cell_type": "markdown",
   "metadata": {
    "id": "ztWY-2Cq_J0h"
   },
   "source": [
    "## Section 1.8 - Testing the Model\n",
    "\n",
    "Let's try to run the following cell to test our model. When prompted for an input, enter any line of text and see what your machine learning model has classified the text as.\n",
    "\n",
    "Try also to load the Naive Bayes model, and load the SVM models and try the text classification for both models.\n",
    "\n",
    "Discuss your findings. \n",
    "\n",
    "1. Which model was more accurate based on the F1-score calculated after training?\n",
    "\n",
    "2. Do you think that the classification has been accurate when you actually tried the model?\n",
    "\n",
    "3. What else can you do to improve the accuracy of the model?\n"
   ]
  },
  {
   "cell_type": "code",
   "execution_count": 16,
   "metadata": {
    "colab": {
     "base_uri": "https://localhost:8080/"
    },
    "id": "HIKDiMip_J0h",
    "outputId": "6f623ea8-442b-43da-98b4-80e2284ea356"
   },
   "outputs": [
    {
     "name": "stdout",
     "output_type": "stream",
     "text": [
      "Enter some text:\n",
      "this movie is bad\n",
      "You entered: this movie is bad\n",
      "Classification result:\n",
      "negative\n"
     ]
    }
   ],
   "source": [
    "print (\"Enter some text:\")\n",
    "user_text = input()\n",
    "classify_text(user_text)\n"
   ]
  },
  {
   "cell_type": "markdown",
   "metadata": {
    "id": "zNlm2Z0nU8od"
   },
   "source": [
    "## Section 1.9 - Explore the helpers.py code\n",
    "\n",
    "Take a look at the code within the helpers.py file to see the codes that load the training and test data, create the Machine Learning model, train the model and perform classification."
   ]
  },
  {
   "cell_type": "code",
   "execution_count": null,
   "metadata": {
    "id": "Do5oj3OBU8od"
   },
   "outputs": [],
   "source": []
  }
 ],
 "metadata": {
  "colab": {
   "collapsed_sections": [],
   "name": "colab-exercise.ipynb",
   "provenance": [],
   "toc_visible": true
  },
  "kernelspec": {
   "display_name": "Python 3",
   "language": "python",
   "name": "python3"
  },
  "language_info": {
   "codemirror_mode": {
    "name": "ipython",
    "version": 3
   },
   "file_extension": ".py",
   "mimetype": "text/x-python",
   "name": "python",
   "nbconvert_exporter": "python",
   "pygments_lexer": "ipython3",
   "version": "3.7.9"
  }
 },
 "nbformat": 4,
 "nbformat_minor": 1
}
