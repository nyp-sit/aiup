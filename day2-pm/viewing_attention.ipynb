{
  "nbformat": 4,
  "nbformat_minor": 0,
  "metadata": {
    "colab": {
      "provenance": [],
      "include_colab_link": true
    },
    "kernelspec": {
      "name": "python3",
      "display_name": "Python 3"
    },
    "language_info": {
      "name": "python"
    }
  },
  "cells": [
    {
      "cell_type": "markdown",
      "metadata": {
        "id": "view-in-github",
        "colab_type": "text"
      },
      "source": [
        "<a href=\"https://colab.research.google.com/github/nyp-sit/aiup/blob/main/day2-pm/viewing_attention.ipynb\" target=\"_parent\"><img src=\"https://colab.research.google.com/assets/colab-badge.svg\" alt=\"Open In Colab\"/></a>"
      ]
    },
    {
      "cell_type": "markdown",
      "source": [
        "# Visualizing Attention\n",
        "\n",
        "In this lab exercise, we will visualize the attention layer of the transformer to see which word it is paying more attention to when processing certain word.\n"
      ],
      "metadata": {
        "id": "x9VoWLVbaZFp"
      }
    },
    {
      "cell_type": "code",
      "execution_count": null,
      "metadata": {
        "id": "tgF47brl6OUj"
      },
      "outputs": [],
      "source": [
        "!pip install -qU transformers\n",
        "!pip install -qU bertviz"
      ]
    },
    {
      "cell_type": "code",
      "source": [
        "from transformers import AutoTokenizer, AutoModel, utils\n",
        "utils.logging.set_verbosity_error()  # Suppress standard warnings\n",
        "tokenizer = AutoTokenizer.from_pretrained(\"gpt2\")\n",
        "model = AutoModel.from_pretrained(\"gpt2\", output_attentions=True)"
      ],
      "metadata": {
        "id": "VZ4wZR-N6bm5"
      },
      "execution_count": null,
      "outputs": []
    },
    {
      "cell_type": "code",
      "source": [
        "inputs = tokenizer(\"The transformer architecture is a good architecture\")\n",
        "print(inputs)"
      ],
      "metadata": {
        "id": "OMKz-9_IL8sb"
      },
      "execution_count": null,
      "outputs": []
    },
    {
      "cell_type": "code",
      "source": [
        "inputs = tokenizer(\"The pink elephant was trying to get into the car but it was too\")\n",
        "print(inputs)\n",
        "print(tokenizer.decode(inputs['input_ids'], skip_special_tokens=False))"
      ],
      "metadata": {
        "id": "YtMIh8Ud6hlf"
      },
      "execution_count": null,
      "outputs": []
    },
    {
      "cell_type": "code",
      "source": [
        "outputs = model(inputs)\n",
        "attention = outputs[-1]  # Output includes attention weights when output_attentions=True\n",
        "tokens = tokenizer.convert_ids_to_tokens(inputs[0])"
      ],
      "metadata": {
        "id": "i_FQBUiyLnZ8"
      },
      "execution_count": null,
      "outputs": []
    },
    {
      "cell_type": "code",
      "source": [
        "from bertviz import head_view\n",
        "head_view(attention, tokens)"
      ],
      "metadata": {
        "id": "xY5wBpdT6lxU"
      },
      "execution_count": null,
      "outputs": []
    },
    {
      "cell_type": "code",
      "source": [
        "# from bertviz.transformers_neuron_view import GPT2Model, GPT2Tokenizer\n",
        "# from bertviz.neuron_view import show\n",
        "\n",
        "\n",
        "# model_type = 'gpt2'\n",
        "# model_version = 'gpt2'\n",
        "# model = GPT2Model.from_pretrained(model_version)\n",
        "# tokenizer = GPT2Tokenizer.from_pretrained(model_version)\n",
        "# text = \"The pink elephant was trying to get into the car but it was too\"\n",
        "# show(model, model_type, tokenizer, text)"
      ],
      "metadata": {
        "id": "mDfn1SmK7WLn"
      },
      "execution_count": null,
      "outputs": []
    },
    {
      "cell_type": "code",
      "source": [],
      "metadata": {
        "id": "8xnk56zz8cCF"
      },
      "execution_count": null,
      "outputs": []
    }
  ]
}