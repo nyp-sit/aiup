{
 "cells": [
  {
   "cell_type": "markdown",
   "metadata": {
    "id": "Dt_YYyPhYZ30"
   },
   "source": [
    "<img src=\"https://www.nyp.edu.sg/content/dam/nyp/logo.png\" width='200'/>\n",
    "\n",
    "Welcome to the lab! Before we get started here are a few pointers on Jupyter notebooks.\n",
    "\n",
    "1. The notebook is composed of cells; cells can contain code which you can run, or they can hold text and/or images which are there for you to read.\n",
    "\n",
    "2. You can execute code cells by clicking the ```Run``` icon in the menu, or via the following keyboard shortcuts ```Shift-Enter``` (run and advance) or ```Ctrl-Enter``` (run and stay in the current cell).\n",
    "\n",
    "3. To interrupt cell execution, click the ```Stop``` button on the toolbar or navigate to the ```Kernel``` menu, and select ```Interrupt ```.\n"
   ]
  },
  {
   "cell_type": "markdown",
   "metadata": {
    "id": "55y4bNNIC3Jt"
   },
   "source": [
    "# Lab 2 - Sentiment Analysis with Deep Learning (Keras)\n",
    "\n",
    "Now that we have learn how to use Naive Bayes and SVM to classify sentiments in a document of text, let's now learn how to use Deep Learning to do the same."
   ]
  },
  {
   "cell_type": "code",
   "execution_count": 2,
   "metadata": {
    "colab": {
     "base_uri": "https://localhost:8080/"
    },
    "id": "ckctkt0DYZ31",
    "outputId": "94d9bb34-9a40-4606-e73b-0bebf70777a3"
   },
   "outputs": [
    {
     "name": "stdout",
     "output_type": "stream",
     "text": [
      "Import helpers complete.\n"
     ]
    }
   ],
   "source": [
    "!wget https://nyp-aicourse.s3-ap-southeast-1.amazonaws.com/datasets/day2-pm/lab2/lab2.zip\n",
    "!unzip lab2.zip\n",
    "\n",
    "from helpers import *\n",
    "print (\"Import helpers complete.\")"
   ]
  },
  {
   "cell_type": "markdown",
   "metadata": {
    "id": "TP9-KK6JgMLr"
   },
   "source": [
    "## Section 2.1 - Load Data from CSV\n",
    "\n",
    "Update the following code below to load the training and test data from the CSV files.\n"
   ]
  },
  {
   "cell_type": "code",
   "execution_count": 3,
   "metadata": {
    "colab": {
     "base_uri": "https://localhost:8080/"
    },
    "id": "OSav2mIAFzWy",
    "outputId": "bec7fe24-7198-4d5e-803d-e2d37e579781"
   },
   "outputs": [
    {
     "name": "stdout",
     "output_type": "stream",
     "text": [
      "Loading training data...\n",
      "Loading test data...\n",
      "Complete.\n"
     ]
    }
   ],
   "source": [
    "# TODO:\n",
    "# Update the code below to indicate the correct file names, the columns used \n",
    "# input text, and the output label class, and some maximum limits\n",
    "#\n",
    "load_text_data_from_csv(\n",
    "\n",
    "    \"data/train.csv\",                           # The training CSV file\n",
    "    \"data/test.csv\",                           # The test CSV file\n",
    "    \"review\",                           # The column in the CSV used as the input text\n",
    "    \"sentiment\")                           # The column in the CSV used as the output classification label"
   ]
  },
  {
   "cell_type": "markdown",
   "metadata": {
    "id": "6TvkwdtRYZ37"
   },
   "source": [
    "Run the following cell to see how the data loaded from the CSV files look like, when it's stored in Python variables."
   ]
  },
  {
   "cell_type": "code",
   "execution_count": 4,
   "metadata": {
    "colab": {
     "base_uri": "https://localhost:8080/"
    },
    "id": "ZNcma73kYZ38",
    "outputId": "cbf0152a-9089-4a91-ce56-7d47c11809eb"
   },
   "outputs": [
    {
     "name": "stdout",
     "output_type": "stream",
     "text": [
      "[\"One of the other reviewers has mentioned that after watching just 1 Oz episode you'll be hooked. They are right, as this is exactly what happened with me.<br /><br />The first thing that struck me about Oz was its brutality and unflinching scenes of violence, which set in right from the word GO. Trust me, this is not a show for the faint hearted or timid. This show pulls no punches with regards to drugs, sex or violence. Its is hardcore, in the classic use of the word.<br /><br />It is called OZ as that is the nickname given to the Oswald Maximum Security State Penitentary. It focuses mainly on Emerald City, an experimental section of the prison where all the cells have glass fronts and face inwards, so privacy is not high on the agenda. Em City is home to many..Aryans, Muslims, gangstas, Latinos, Christians, Italians, Irish and more....so scuffles, death stares, dodgy dealings and shady agreements are never far away.<br /><br />I would say the main appeal of the show is due to the fact that it goes where other shows wouldn't dare. Forget pretty pictures painted for mainstream audiences, forget charm, forget romance...OZ doesn't mess around. The first episode I ever saw struck me as so nasty it was surreal, I couldn't say I was ready for it, but as I watched more, I developed a taste for Oz, and got accustomed to the high levels of graphic violence. Not just violence, but injustice (crooked guards who'll be sold out for a nickel, inmates who'll kill on order and get away with it, well mannered, middle class inmates being turned into prison bitches due to their lack of street skills or prison experience) Watching Oz, you may become comfortable with what is uncomfortable viewing....thats if you can get in touch with your darker side.\"\n",
      " 'A wonderful little production. <br /><br />The filming technique is very unassuming- very old-time-BBC fashion and gives a comforting, and sometimes discomforting, sense of realism to the entire piece. <br /><br />The actors are extremely well chosen- Michael Sheen not only \"has got all the polari\" but he has all the voices down pat too! You can truly see the seamless editing guided by the references to Williams\\' diary entries, not only is it well worth the watching but it is a terrificly written and performed piece. A masterful production about one of the great master\\'s of comedy and his life. <br /><br />The realism really comes home with the little things: the fantasy of the guard which, rather than use the traditional \\'dream\\' techniques remains solid then disappears. It plays on our knowledge and our senses, particularly with the scenes concerning Orton and Halliwell and the sets (particularly of their flat with Halliwell\\'s murals decorating every surface) are terribly well done.'\n",
      " 'I thought this was a wonderful way to spend time on a too hot summer weekend, sitting in the air conditioned theater and watching a light-hearted comedy. The plot is simplistic, but the dialogue is witty and the characters are likable (even the well bread suspected serial killer). While some may be disappointed when they realize this is not Match Point 2: Risk Addiction, I thought it was proof that Woody Allen is still fully in control of the style many of us have grown to love.<br /><br />This was the most I\\'d laughed at one of Woody\\'s comedies in years (dare I say a decade?). While I\\'ve never been impressed with Scarlet Johanson, in this she managed to tone down her \"sexy\" image and jumped right into a average, but spirited young woman.<br /><br />This may not be the crown jewel of his career, but it was wittier than \"Devil Wears Prada\" and more interesting than \"Superman\" a great comedy to go see with friends.'\n",
      " ...\n",
      " \"This show is awesome! I love all the actors! It has great story lines and characters. It is the perfect drama. James Caan and Josh Duhamel have great dialogue. They both can be really funny.I miss Vanessa Marcil on General Hospital, but she's great on here. James Lesure is great! He can be hilarious. Molly Sims plays a dimwit very well. The writing is awesome!They keep up an excellent pace. The show can really leave you hanging, which is one of my favorite elements of a show. I cannot wait until the new season starts. This show makes it to the top ten of all my shows. I hope this show stays on for a really long time. If people know what good is, it will. I never want the show to end. Ever.\"\n",
      " \"The fact that this movie has been entitled to the most successful movie in Switzerland's film history makes me shake my head! It's true, but pitiful at the same time. A flick about the Swiss army could be a good deal better.<br /><br />The story sounds interesting, at the beginning: Antonio Carrera (Michael Koch) gets forced to absolve his military training by the army while he is in the church, wedding his love Laura Moretti (Mia Aegerter).<br /><br />The Acting in some way doesn't really differ from just a few recruits getting drunk and stoned in the reality. Melanie Winiger plays her role as the strong Michelle Bluntschi mediocre, personally i found her rather annoying. <br /><br />The storyline contains a comedy combined with a romance, which does not work as expected. The romance-part is too trashy, and the comedy-part is not funny at all, it's just a cheap try and does not change throughout the whole movie whatsoever. It's funny for preadolescent 12-13 year olds, but not for such as those who search an entertaining comedy. The humor is weak except for some shots.<br /><br />Dope? Cool! Stealing? Cool! If you want a proper comedy about the Swiss RS, make sure you did not absolve your military training yet, and even then don't expect too much!<br /><br />I'll give it 4 out of 10 stars, because Marco Rima is quite funny during his screen time. Not a hell of a lot screen time though\"\n",
      " \"I have to confess that I am severely disappointed.<br /><br />This version can in no way compete with the version of 1995. The reason why I watched it was that I wasn't entirely happy with Ciaran Hinds as Captain Wentworth and thought that Rupert Penry-Jones looked much more like the Captain I had imagined when I read the book. And he was too.<br /><br />Unfortunately that is the only redeeming quality of the film. The rest is as un-Austen-like as possible.<br /><br />Miss Elliot would NEVER have run through the streets of Bath like this. It wasn't in her character and it just wasn't done by a lady of the those times. The Anne Elliot of the book was a lady and she had dignity. There are other painful anachronisms but this was the worst.<br /><br />Although there are 3 important quotes from the book, they are at entirely inappropriate moments, warning those who know the book that yet another important part of the book will either be missing or completely changed.<br /><br />And although this version is not much shorter than the other one, it feels like everything is rushed. Very little care was taken to introduce the characters, show their dispositions and motives. Important scenes were omitted. How could they possibly have butchered the final scenes in this way ? A disaster ! And it was by far not as beautifully photographed as the other one.<br /><br />No, no, no. If you love Austen, then don't waste your time with this.\"]\n",
      "[[0. 1.]\n",
      " [0. 1.]\n",
      " [0. 1.]\n",
      " ...\n",
      " [0. 1.]\n",
      " [1. 0.]\n",
      " [1. 0.]]\n"
     ]
    }
   ],
   "source": [
    "display_trainx_trainy()"
   ]
  },
  {
   "cell_type": "markdown",
   "metadata": {
    "id": "p6VmPtCMYZ3-"
   },
   "source": [
    "## Section 2.2 - Build a Word Dictionary and Tokenize Text\n",
    "\n",
    "Let's review the various stages in our Text Classification task using Deep Learning. The first step is to go through our text processing to tokenize a string of text into individual words. Then we convert each word into Word Embeddings. Next, we pass the sequence of words into a Recurrent Neural Network which then computes a series of features before sending that into a Fully Connected dense layer for classification. \n",
    "\n",
    "<img src=\"https://nyp-aicourse.s3-ap-southeast-1.amazonaws.com/resources/day2-pm/textclass_dl.PNG\" />\n",
    "\n",
    "---\n",
    "\n",
    "The following function creates a dictionary of n words, based the words that appeared in all the training data. \n",
    "\n",
    "It also performs tokenization, which is a necessary step to split up a sentence into into words, and assigning a numeric identifier to the word. \n",
    "\n",
    "With Scikit-Learn, the tokenization (as well as Lemmatization) is handled by the NLTK toolkit and integrated into the Scikit-Learn processing pipeline. But in the case of Keras, we have to handle that by ourselves. While lemmatization is beneficial in Classical Machine Learning algorithms, it's improvement to performance may be less significant in Deep Learning, depending on the written language that you are trying to classify. In our case, we will proceed to classify our movie reviews without lemmatizing the text.\n",
    "\n",
    "Go ahead to run the cell below to build our dictionary and data set."
   ]
  },
  {
   "cell_type": "code",
   "execution_count": 5,
   "metadata": {
    "colab": {
     "base_uri": "https://localhost:8080/"
    },
    "id": "s-GAVO-8YZ3_",
    "outputId": "37dcd246-f4e0-4c7a-ffab-e4ebc5e3166b"
   },
   "outputs": [
    {
     "name": "stdout",
     "output_type": "stream",
     "text": [
      "Initializing tokenizer...\n",
      "Tokenizing training data...\n",
      "  Max number of words in a sentence: 2442\n",
      "Tokenizing test data...\n",
      "  Max number of words in a sentence: 2318\n",
      "Complete.\n"
     ]
    }
   ],
   "source": [
    "# Split and tokenize all the strings into individual word index\n",
    "# in a dictionary.\n",
    "#\n",
    "# NOTE: If you want to this again, you must re-load the data from CSV in\n",
    "#       in step 2.1.\n",
    "#\n",
    "build_dictionary_and_tokenize_data(\n",
    "    50000,                                        # Max number of words in dictionary\n",
    "    2500)                                        # Max number of words per sentence."
   ]
  },
  {
   "cell_type": "markdown",
   "metadata": {
    "id": "uUlkT_ZSYZ4B"
   },
   "source": [
    "Run the cell below to see how our sentences now look like.\n",
    "\n",
    "You can see that each sentence has been converted into a series of numbers."
   ]
  },
  {
   "cell_type": "code",
   "execution_count": 6,
   "metadata": {
    "colab": {
     "base_uri": "https://localhost:8080/"
    },
    "id": "LNZ8PZcPYZ4B",
    "outputId": "d0a7e5a8-a74f-4225-a3cf-2871739c3c62"
   },
   "outputs": [
    {
     "name": "stdout",
     "output_type": "stream",
     "text": [
      "[[   0    0    0 ...  125 4103  486]\n",
      " [   0    0    0 ... 1977   69  221]\n",
      " [   0    0    0 ...   63   16  350]\n",
      " ...\n",
      " [   0    0    0 ...    5  127  123]\n",
      " [   0    0    0 ...  258   55  151]\n",
      " [   0    0    0 ...   55   16   11]]\n",
      "[[0. 1.]\n",
      " [0. 1.]\n",
      " [0. 1.]\n",
      " ...\n",
      " [0. 1.]\n",
      " [1. 0.]\n",
      " [1. 0.]]\n"
     ]
    }
   ],
   "source": [
    "display_trainx_trainy()"
   ]
  },
  {
   "cell_type": "markdown",
   "metadata": {
    "id": "xTLHhIHaYZ4D"
   },
   "source": [
    "## Section 2.3 - Load the Glove Word Embeddings\n",
    "\n",
    "Word Embeddings are a well-recognized way of representing the meaning of a word in Machine Learning. Thanks to the vast sources of written text on the internet today from written articles, news, Wikipedias, user-generated content on social media, we have amassed a huge corpus of language data useful in training and producing a machine-learned representation of words.\n",
    "\n",
    "A few of the Word Embeddings that have been pre-trained and made available for download are the Glove and Word2Vec embeddings. These embeddings are basically a dictionary look-up that maps a word to a series of numbers.\n",
    "\n",
    "For this exercise, we will use the Glove Embeddings available here: https://nlp.stanford.edu/projects/glove/\n",
    "\n",
    "We have already downloaded the Glove Embeddings file to the **\"data/glove.6B.200d.txt\"**. Update the path to that file and run the cell to load it up. "
   ]
  },
  {
   "cell_type": "code",
   "execution_count": 7,
   "metadata": {
    "colab": {
     "base_uri": "https://localhost:8080/"
    },
    "id": "5AZFQY8DYZ4E",
    "outputId": "f0d93448-be3e-458d-cf6c-973aa3447fcb"
   },
   "outputs": [
    {
     "name": "stdout",
     "output_type": "stream",
     "text": [
      "Loading GloVe Word Embedding...\n",
      "Complete.\n"
     ]
    }
   ],
   "source": [
    "# TODO:\n",
    "# Set the path to the Glove Word Embedding file\n",
    "#\n",
    "load_glove_embedding(\"data/glove.6B.200d.txt\")"
   ]
  },
  {
   "cell_type": "markdown",
   "metadata": {
    "id": "pKHjoaC-YZ4G"
   },
   "source": [
    "Replace the ??? with any known English word, and run the following cell to see how a real word embedding looks like."
   ]
  },
  {
   "cell_type": "code",
   "execution_count": 8,
   "metadata": {
    "colab": {
     "base_uri": "https://localhost:8080/"
    },
    "id": "bMKCXfRcYZ4H",
    "outputId": "ec0907ca-3760-4055-b522-27b91eca504a"
   },
   "outputs": [
    {
     "name": "stdout",
     "output_type": "stream",
     "text": [
      "Index of word king: 775\n",
      "Word embedding:\n",
      "[-0.49346    -0.14768     0.32166001  0.056899    0.052572    0.20192\n",
      " -0.13506    -0.030793    0.15614    -0.23004    -0.66376001 -0.27316001\n",
      "  0.10391     0.57334    -0.032355   -0.32765999 -0.27160001  0.32918999\n",
      "  0.41305    -0.18085     1.51670003  2.16490006 -0.10278     0.098019\n",
      " -0.018946    0.027292   -0.79479998  0.36631    -0.33151001  0.28839999\n",
      "  0.10436    -0.19166     0.27326    -0.17519    -0.14985999 -0.072333\n",
      " -0.54370999 -0.29728001  0.081491   -0.42673001 -0.36406001 -0.52034998\n",
      "  0.18455     0.44121    -0.32196     0.39172     0.11952     0.36978999\n",
      "  0.29229    -0.42954001  0.46653    -0.067243    0.31215999 -0.17216\n",
      "  0.48874     0.28029999 -0.17577    -0.35100999  0.020792    0.15974\n",
      "  0.21927001 -0.32499     0.086022    0.38927001 -0.65638    -0.67400998\n",
      " -0.41896001  1.27090001  0.20857     0.28314999  0.58238    -0.14944001\n",
      "  0.3989      0.52680999  0.35714    -0.39100999 -0.55372    -0.56642002\n",
      " -0.15762    -0.48004001  0.40448001  0.057518   -1.01569998  0.21754999\n",
      "  0.073296    0.15237001 -0.38361999 -0.75308001 -0.0060254  -0.26232001\n",
      " -0.54101998 -0.34347001  0.11113     0.47685    -0.73229998  0.77596998\n",
      "  0.015216   -0.66327    -0.21144    -0.42964    -0.72689998 -0.067968\n",
      "  0.50601     0.039817   -0.27584001 -0.34794    -0.0474      0.50734001\n",
      " -0.30777001  0.11594    -0.19211     0.3107     -0.60075003  0.22044\n",
      " -0.36265001 -0.59442002 -1.20459998  0.10619    -0.60277998  0.21573\n",
      " -0.35361999  0.55473     0.58094001  0.077259    1.0776     -0.1867\n",
      " -1.51680005  0.32418001  0.83332998  0.17366     1.12320006  0.10863\n",
      "  0.55888999  0.30799001  0.084318   -0.43178001 -0.042287   -0.054615\n",
      "  0.054712   -0.80914003 -0.24429999 -0.076909    0.55216002 -0.71895999\n",
      "  0.83319002  0.020735    0.020472   -0.40279001 -0.28874001  0.23758\n",
      "  0.12576    -0.15165    -0.69419998 -0.25174001  0.29591     0.40290001\n",
      " -1.0618      0.19847    -0.63463002 -0.70842999  0.067943    0.57366002\n",
      "  0.041122    0.17452     0.19430999 -0.28641    -1.13629997  0.45116001\n",
      " -0.066518    0.82615    -0.45451999 -0.85652     0.18105    -0.24187\n",
      "  0.20152999  0.72298002  0.17415    -0.87327999  0.69814998  0.024706\n",
      "  0.26174    -0.0087155  -0.39348999  0.13801    -0.39298999 -0.23057\n",
      " -0.22611    -0.14407     0.010511   -0.47389001 -0.15645     0.28601\n",
      " -0.21772    -0.49535     0.022209   -0.23575    -0.22469001 -0.011578\n",
      "  0.52867001 -0.062309  ]\n"
     ]
    }
   ],
   "source": [
    "# TODO:\n",
    "# Set any known English word to see its Word Embedding.\n",
    "#\n",
    "display_word_embedding(\"king\")"
   ]
  },
  {
   "cell_type": "markdown",
   "metadata": {
    "id": "IbOfuF-aYZ4J"
   },
   "source": [
    "Humans can visualize nearby words if we wrote all of them in Post-Its and pasted them in a 2-dimensional flipchart. But in practice, we need more than 2 dimensions to capture meaning in a word. The Glove Embedding that we use captures 200 dimensions of numbers per word. We won't be able to visualize nearby words with a 200-dimension representation, but machines will have no problems computing distances of words represented with any number of dimensions. \n",
    "\n",
    "By feeding the Word Embeddings of each word in a sentence to the Deep Learning model, we are essentially telling the Deep Learning model to make use of the meaning of each words in a paragraph to classify that paragraph. \n",
    "\n",
    "Run the following cell with any word to see how the machine can determine the closest matching/meaning words with the help of the Glove Word Embedding look up."
   ]
  },
  {
   "cell_type": "code",
   "execution_count": 9,
   "metadata": {
    "colab": {
     "base_uri": "https://localhost:8080/"
    },
    "id": "oV86g941YZ4J",
    "outputId": "f57149ef-0d5e-424e-eb7e-6853c1ce9224"
   },
   "outputs": [
    {
     "name": "stdout",
     "output_type": "stream",
     "text": [
      "prince                         5.454168\n",
      "queen                          5.494878\n",
      "monarch                        5.592009\n",
      "kingdom                        5.668654\n",
      "reign                          5.854875\n",
      "uncle                          5.936160\n",
      "throne                         5.937283\n",
      "ii                             5.953291\n",
      "nephew                         6.089303\n",
      "crown                          6.091413\n"
     ]
    }
   ],
   "source": [
    "# TODO:\n",
    "# Set any word here and run the cell to see which word is\n",
    "# close in meaning to the one you supplied.\n",
    "#\n",
    "display_nearby_words(\"king\")"
   ]
  },
  {
   "cell_type": "markdown",
   "metadata": {
    "id": "zDgGHjCDgU6e"
   },
   "source": [
    "## Section 2.4 - Create the Deep Learning Text Classification Model\n",
    "\n",
    "The following creates the Deep Learning model for our Text Classification task. A typical Recurrent Neural Network will look like the following:\n",
    "\n",
    "<img src=\"https://nyp-aicourse.s3-ap-southeast-1.amazonaws.com/resources/day2-pm/we_rnn_dl.PNG\" height=\"300\">\n",
    "\n",
    "The Word Embedding captures the meaning of the words, while the Recurrent Neural Network attempts to make sense of the order and position of the words. \n",
    "\n",
    "---\n",
    "\n",
    "In the cell below, we have some codes to create the above model architecture, with some hyper-parameters that you can change to alter the structure of the model and how the model learns.\n",
    "\n",
    "For example, you may consider using GRU instead of LSTM, or you may choose to use a Bi-directional/Uni-directional model. A Uni-directional model takes in a sequence of words in the natural reading order. A Bi-directional model takes in a sentence in from first-to-last word and last-to-first word, allowing the model to capture contexts in both directions.\n",
    "\n",
    "Update the hyper-parameters and then run the cell to create the model.\n",
    "\n",
    "1. Recurrent Neural Network variant in the Recurrent Layer: **'lstm'**\n",
    "2. Neurons in Recurrent Layer: **32**\n",
    "2. Bi-directional: **True**\n",
    "3. Optimizer: **'adam'**\n",
    "\n"
   ]
  },
  {
   "cell_type": "code",
   "execution_count": 10,
   "metadata": {
    "colab": {
     "base_uri": "https://localhost:8080/"
    },
    "id": "geyYJIUoFzW3",
    "outputId": "57b8d256-638d-42ab-b613-30ead26ffbdd"
   },
   "outputs": [
    {
     "name": "stdout",
     "output_type": "stream",
     "text": [
      "Model: \"sequential\"\n",
      "_________________________________________________________________\n",
      "Layer (type)                 Output Shape              Param #   \n",
      "=================================================================\n",
      "embedding (Embedding)        (None, 2500, 200)         24850600  \n",
      "_________________________________________________________________\n",
      "bidirectional (Bidirectional (None, 64)                59648     \n",
      "_________________________________________________________________\n",
      "activation (Activation)      (None, 64)                0         \n",
      "_________________________________________________________________\n",
      "dense (Dense)                (None, 2)                 130       \n",
      "=================================================================\n",
      "Total params: 24,910,378\n",
      "Trainable params: 59,778\n",
      "Non-trainable params: 24,850,600\n",
      "_________________________________________________________________\n"
     ]
    }
   ],
   "source": [
    "# TODO:\n",
    "# Update the hyper parameters before starting the training.\n",
    "#\n",
    "create_text_classifier_model_rnn(\n",
    "    2,                                        # Number of classes to predict \n",
    "    2500,                                     # Max number words per sentence\n",
    "    'glove',                                  # Word Embedding                  ('glove' / 'new')\n",
    "    'lstm',                                    # RNN variant                     ('rnn' / 'gru' / 'lstm')\n",
    "    32,                                        # Neurons in RNN layer            (typically 16 to 1024)\n",
    "    True,                                     # Use bi-directional RNN?         (False - Uni-directional / True - Bi-directional)\n",
    "    'adam'                                     # Optimizer to learn              ('sgd' / 'adam')\n",
    ")"
   ]
  },
  {
   "cell_type": "markdown",
   "metadata": {
    "id": "YlqlFTq_g0Oo"
   },
   "source": [
    "## Section 2.5 - Train Your Model\n",
    "\n",
    "Update the following parameters and then run the cell below to start the training. \n",
    "\n",
    "1. Learning rate = **0.01** (for 'sgd' optimizer), **0.001** (for 'adam' optimizer)\n",
    "2. Batch size = **100**,\n",
    "3. Number of epochs = **5**\n",
    "\n",
    "Take a look at the accuracy of your classifications on the test data and compare its F1-score with your classical Machine Learning models. Try to adjust some of the hyper-parameters above including the RNN variant, the number of neurons, using/not using bi-directional networks, using a different optimizer, changing the batch size and the number of epochs. The run Section 2.4 and 2.5 again to train.\n",
    "\n",
    "Try experimenting with different combinations of hyper-parameters to see if you can achieve a good F1-score."
   ]
  },
  {
   "cell_type": "code",
   "execution_count": 11,
   "metadata": {
    "colab": {
     "base_uri": "https://localhost:8080/",
     "height": 1000
    },
    "id": "9GOPphNXFzW6",
    "outputId": "11de96e9-35f3-4e47-f146-6c27288a60e1"
   },
   "outputs": [
    {
     "name": "stdout",
     "output_type": "stream",
     "text": [
      "Epoch 1/5\n",
      "400/400 [==============================] - 88s 220ms/step - loss: 0.5278 - accuracy: 0.7326 - val_loss: 0.4160 - val_accuracy: 0.8178\n",
      "Epoch 2/5\n",
      "400/400 [==============================] - 88s 221ms/step - loss: 0.3574 - accuracy: 0.8468 - val_loss: 0.3293 - val_accuracy: 0.8553\n",
      "Epoch 3/5\n",
      "400/400 [==============================] - 88s 220ms/step - loss: 0.3061 - accuracy: 0.8705 - val_loss: 0.2950 - val_accuracy: 0.8780\n",
      "Epoch 4/5\n",
      "400/400 [==============================] - 88s 221ms/step - loss: 0.2779 - accuracy: 0.8845 - val_loss: 0.2987 - val_accuracy: 0.8721\n",
      "Epoch 5/5\n",
      "400/400 [==============================] - 88s 221ms/step - loss: 0.2571 - accuracy: 0.8939 - val_loss: 0.2637 - val_accuracy: 0.8905\n",
      "Evaluating classifier...\n"
     ]
    },
    {
     "data": {
      "image/png": "[encoded data removed]",
      "text/plain": [
       "<Figure size 1440x288 with 2 Axes>"
      ]
     },
     "metadata": {
      "needs_background": "light",
      "tags": []
     },
     "output_type": "display_data"
    },
    {
     "data": {
      "image/png": "[encoded data removed]",
      "text/plain": [
       "<Figure size 1440x432 with 4 Axes>"
      ]
     },
     "metadata": {
      "needs_background": "light",
      "tags": []
     },
     "output_type": "display_data"
    },
    {
     "name": "stdout",
     "output_type": "stream",
     "text": [
      "Train Data\n",
      "--------------------------------------------------------\n",
      "              precision    recall  f1-score   support\n",
      "\n",
      "    negative       0.92      0.89      0.90     20007\n",
      "    positive       0.89      0.92      0.91     19993\n",
      "\n",
      "    accuracy                           0.90     40000\n",
      "   macro avg       0.90      0.90      0.90     40000\n",
      "weighted avg       0.90      0.90      0.90     40000\n",
      "\n",
      "\n",
      "Test Data\n",
      "--------------------------------------------------------\n",
      "              precision    recall  f1-score   support\n",
      "\n",
      "    negative       0.90      0.88      0.89      4993\n",
      "    positive       0.88      0.90      0.89      5007\n",
      "\n",
      "    accuracy                           0.89     10000\n",
      "   macro avg       0.89      0.89      0.89     10000\n",
      "weighted avg       0.89      0.89      0.89     10000\n",
      "\n"
     ]
    }
   ],
   "source": [
    "# TODO:\n",
    "# Set the learning rate of the deep learning network\n",
    "# A large learning rate helps to adjust quickly the network weights to the optimal \n",
    "# goal, but it may also cause it to over-shoot its goal. A small learning rate\n",
    "# causes the network to learn very slowly, but it may bring it to its nearest goal\n",
    "#\n",
    "set_learning_rate(0.001)\n",
    "\n",
    "\n",
    "# TODO:\n",
    "# Update the batch size, and the number of epochs to train.\n",
    "#\n",
    "train_text_classifier_model(\n",
    "    100,                         # Batch size.\n",
    "    5                          # Number of epochs/iterations to train this model.\n",
    "    )"
   ]
  },
  {
   "cell_type": "markdown",
   "metadata": {
    "id": "XZiyb6wXhCzU"
   },
   "source": [
    "## Section 2.6 - Save Your Text Classification Model\n",
    "\n",
    "Run the following code below to save your Text Classification model.\n"
   ]
  },
  {
   "cell_type": "code",
   "execution_count": 12,
   "metadata": {
    "id": "_CC-_8hDFzXB"
   },
   "outputs": [],
   "source": [
    "save_text_classifier_model(\"models/text_classifier.h5\")"
   ]
  },
  {
   "cell_type": "markdown",
   "metadata": {
    "id": "w0FY1W-9hJ_L"
   },
   "source": [
    "## Section 2.7 - Load Your Text Classification Model\n",
    "\n",
    "Run the following code below to load your Text Classification model. \n"
   ]
  },
  {
   "cell_type": "code",
   "execution_count": 13,
   "metadata": {
    "id": "V-2hmOetFzXD"
   },
   "outputs": [],
   "source": [
    "load_text_classifier_model(\"models/text_classifier.h5\")"
   ]
  },
  {
   "cell_type": "markdown",
   "metadata": {
    "id": "9ExHRj7ehTbg"
   },
   "source": [
    "## Section 2.8 - Try Out Your Model\n",
    "\n",
    "Run the following code to try your model.\n",
    "\n",
    "Discuss how you feel about this new classifier:\n",
    "\n",
    "1. Did the accuracy of your model performance increase with Deep Learning?\n",
    "2. What do you think you can do to further improve the accuracy of your model?\n",
    "3. How does the accuracy of your model feel when you are testing it manually?\n"
   ]
  },
  {
   "cell_type": "code",
   "execution_count": 14,
   "metadata": {
    "colab": {
     "base_uri": "https://localhost:8080/"
    },
    "id": "_wMECaArFzXG",
    "outputId": "695226f3-acb8-4ef5-9275-dbe6a8cdd445"
   },
   "outputs": [
    {
     "name": "stdout",
     "output_type": "stream",
     "text": [
      "Enter some text:\n",
      "this is a good movie\n",
      "You entered: this is a good movie\n",
      "Classification result:\n",
      "positive\n",
      "0.166 - negative\n",
      "0.834 - positive\n"
     ]
    }
   ],
   "source": [
    "print (\"Enter some text:\")\n",
    "user_text = input()\n",
    "classify_text(user_text)"
   ]
  },
  {
   "cell_type": "markdown",
   "metadata": {
    "id": "xZ0zmubPYZ4a"
   },
   "source": [
    "## Section 2.9 - Explore helpers.py\n",
    "\n",
    "Go ahead again to examine the codes in helpers.py to see how we create the Deep Learning model in Keras."
   ]
  },
  {
   "cell_type": "code",
   "execution_count": null,
   "metadata": {
    "id": "iNp4PC7EYZ4a"
   },
   "outputs": [],
   "source": []
  }
 ],
 "metadata": {
  "accelerator": "GPU",
  "colab": {
   "collapsed_sections": [],
   "name": "day2pm_lab2_colab_exercise_solution.ipynb",
   "provenance": [],
   "toc_visible": true
  },
  "kernelspec": {
   "display_name": "Python 3",
   "language": "python",
   "name": "python3"
  },
  "language_info": {
   "codemirror_mode": {
    "name": "ipython",
    "version": 3
   },
   "file_extension": ".py",
   "mimetype": "text/x-python",
   "name": "python",
   "nbconvert_exporter": "python",
   "pygments_lexer": "ipython3",
   "version": "3.7.9"
  }
 },
 "nbformat": 4,
 "nbformat_minor": 1
}
